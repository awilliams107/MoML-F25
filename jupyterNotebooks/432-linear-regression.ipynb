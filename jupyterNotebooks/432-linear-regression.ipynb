{
 "cells": [
  {
   "cell_type": "markdown",
   "metadata": {},
   "source": [
    "# Math 432 — NumPy, Dot Products, and Linear Regression\n",
    "\n",
    "**Learning goals**\n",
    "1. Get comfortable with vectors and matrices in NumPy.\n",
    "2. Understand the dot product algebraically and geometrically (angles, projections).\n",
    "3. Fit a linear model by viewing regression as an **orthogonal projection**—no statistics jargon.\n",
    "\n",
    "> **How to use this notebook:** Run cells top to bottom. If something errors, use *Kernel → Restart & Run All*."
   ]
  },
  {
   "cell_type": "markdown",
   "metadata": {},
   "source": [
    "## 0. Setup\n",
    "We will use only NumPy and Matplotlib."
   ]
  },
  {
   "cell_type": "code",
   "execution_count": 6,
   "metadata": {},
   "outputs": [],
   "source": [
    "%matplotlib inline\n",
    "import numpy as np\n",
    "import matplotlib.pyplot as plt\n",
    "from matplotlib.patches import Patch\n",
    "from matplotlib.lines import Line2D\n",
    "np.set_printoptions(suppress=True, precision=4)  # prettier printing\n",
    "\n",
    "# Random generator for reproducibility\n",
    "rng = np.random.default_rng(432)"
   ]
  },
  {
   "cell_type": "markdown",
   "metadata": {},
   "source": [
    "## 1. Vectors and Matrices in NumPy\n",
    "- A **vector** is a 1D array, e.g. shape `(n,)`.\n",
    "- A **matrix** is a 2D array, e.g. shape `(m, n)`.\n",
    "- The attribute ``.shape`` reports dimensions.\n",
    "- Matrix multiplication uses the `@` operator (or `np.matmul`)."
   ]
  },
  {
   "cell_type": "code",
   "execution_count": 7,
   "metadata": {},
   "outputs": [
    {
     "name": "stdout",
     "output_type": "stream",
     "text": [
      "v: [ 2 -1  3]  shape = (3,)\n",
      "A: [[ 1  2  0]\n",
      " [ 0 -1  3]] \n",
      "shape = (2, 3)\n"
     ]
    }
   ],
   "source": [
    "# Create vectors and matrices\n",
    "v = np.array([2, -1, 3])             # shape (3,)\n",
    "y = np.array([4, 0, 1])              # shape (3,)\n",
    "A = np.array([[1, 2, 0],\n",
    "              [0, -1, 3]])           # shape (2,3)\n",
    "B = np.array([[2, 1, -1],\n",
    "              [1, 0,  4],\n",
    "              [0, 2,  2]])           # shape (3,3)\n",
    "\n",
    "print('v:', v, ' shape =', v.shape)\n",
    "print('A:', A, '\\nshape =', A.shape)"
   ]
  },
  {
   "cell_type": "markdown",
   "metadata": {},
   "source": [
    "### Basic operations\n",
    "- Elementwise: `v + w`, `3*v`, `v * w` (Hadamard product; we'll almost never use this for matrices).\n",
    "- Matrix–vector: `A @ v`.\n",
    "- Matrix–matrix: `A @ B`.\n",
    "- Transpose: `A.T`. \n",
    "- Identity: `np.eye(n)`.\n",
    "- Vector length: `np.linalg.norm(v)`. \n",
    "- Solve `Bx = y` via `np.linalg.solve(B, y)`."
   ]
  },
  {
   "cell_type": "code",
   "execution_count": 8,
   "metadata": {},
   "outputs": [
    {
     "name": "stdout",
     "output_type": "stream",
     "text": [
      "v + y = [ 6 -1  4]\n",
      "3*v   = [ 6 -3  9]\n",
      "A @ v = [ 0 10]\n",
      "A @ B =\n",
      " [[ 4  1  7]\n",
      " [-1  6  2]]\n",
      "A^T =\n",
      " [[ 1  0]\n",
      " [ 2 -1]\n",
      " [ 0  3]]\n",
      "I3 =\n",
      " [[1. 0. 0.]\n",
      " [0. 1. 0.]\n",
      " [0. 0. 1.]]\n",
      "||v|| = 3.7416573867739413\n",
      "Solution x to Bx=y: [ 1.4   0.85 -0.35]\n",
      "Check B @ x (should equal y): [ 4. -0.  1.]\n"
     ]
    }
   ],
   "source": [
    "print('v + y =', v + y)\n",
    "print('3*v   =', 3*v)\n",
    "print('A @ v =', A @ v)           # (2x3)@(3,) -> (2,)\n",
    "print('A @ B =\\n', A @ B)        # (2x3)@(3x3) -> (2x3)\n",
    "print('A^T =\\n', A.T)\n",
    "I3 = np.eye(3)\n",
    "print('I3 =\\n', I3)\n",
    "print('||v|| =', np.linalg.norm(v))\n",
    "\n",
    "# Solve Bx = w (B must be invertible)\n",
    "x = np.linalg.solve(B, y)\n",
    "print('Solution x to Bx=y:', x)\n",
    "print('Check B @ x (should equal y):', B @ x)"
   ]
  },
  {
   "cell_type": "markdown",
   "metadata": {},
   "source": [
    "> **Exercise 1.1**\n",
    "> 1. Create a random 4x4 matrix `C = rng.normal(size=(4,4))` and a 4-vector `y = rng.normal(size=4)`.\n",
    "> 2. Compute `C @ y`, `C.T`, and solve `C z = y` using `np.linalg.solve`.\n",
    "> 3. Verify your solution by computing `C @ z` (should match `y` up to rounding)."
   ]
  },
  {
   "cell_type": "code",
   "execution_count": 9,
   "metadata": {
    "tags": [
     "exercise"
    ]
   },
   "outputs": [],
   "source": [
    "# TODO: your work here\n",
    "# C = ...\n",
    "# y = ...\n",
    "# z = np.linalg.solve(C, y)\n",
    "# print('Check:', np.allclose(C @ z, y))\n",
    "pass"
   ]
  },
  {
   "cell_type": "markdown",
   "id": "44864960",
   "metadata": {},
   "source": [
    "> **Exercise 1.2**\n",
    "> 1. Define a 5x2 matrix X (e.g. the one from class).\n",
    "> 2. Use `numpy` to compute $X^\\top X$.\n",
    "> 3. What happens if you add a third column to $X$ that's a linear combination of the first two?"
   ]
  },
  {
   "cell_type": "code",
   "execution_count": 10,
   "id": "ea152ab3",
   "metadata": {},
   "outputs": [],
   "source": [
    "# TODO: your work here\n",
    "# X = ...\n",
    "# Xt = ...\n",
    "# print('X^T X =\\n', Xt @ X)\n",
    "pass"
   ]
  },
  {
   "cell_type": "markdown",
   "metadata": {},
   "source": [
    "### Tip: column vectors in NumPy\n",
    "NumPy uses 1D arrays for vectors, shape `(n,)`. To make an explicit column vector with shape `(n,1)`, do `v[:, None]`.\n",
    "This sometimes matters, e.g. when forming outer products like `v[:, None] @ w[None, :]`."
   ]
  },
  {
   "cell_type": "markdown",
   "metadata": {},
   "source": [
    "## 2. Dot Product — Algebra and Geometry\n",
    "For $\\mathbf{x}, \\mathbf{y} \\in \\mathbb{R}^n$, the **dot product** is\n",
    "$$\\mathbf{x} \\cdot \\mathbf{y} = \\sum_{i=1}^n x_i y_i = \\mathbf{x}^\\top \\mathbf{y}.$$\n",
    "\n",
    "In NumPy: `x @ y` or `np.dot(x, y)`. The dot product connects to the angle $\\theta$ via\n",
    "$$\\mathbf{x} \\cdot \\mathbf{y} = \\|\\mathbf{x} \\|\\,\\| \\mathbf{y} \\|\\cos \\theta,$$\n",
    "so\n",
    "- $\\mathbf{x} \\cdot \\mathbf{y} = 0$ $\\Leftrightarrow$ $\\mathbf{x}$ and $\\mathbf{y}$ are **orthogonal**.\n",
    "- The **projection** of $\\mathbf{y}$ onto the line through $\\mathbf{x}$ is \n",
    "  $$\\operatorname{proj}_{\\mathbf{x}}(\\mathbf{y}) = \\frac{\\mathbf{x}\\cdot \\mathbf{y}}{\\mathbf{x}\\cdot \\mathbf{x}}\\, \\mathbf{x}.$$"
   ]
  },
  {
   "cell_type": "code",
   "execution_count": 11,
   "metadata": {},
   "outputs": [
    {
     "name": "stdout",
     "output_type": "stream",
     "text": [
      "x·y = 19.0\n",
      "θ (degrees) = 41.820169880135765\n",
      "proj_x(y) = [2.28 3.04]\n",
      "x·r (≈ 0) = 0.0\n"
     ]
    }
   ],
   "source": [
    "x = np.array([3.0, 4.0])\n",
    "y = np.array([5.0, 1.0])\n",
    "dot_xy = x @ y\n",
    "cos_theta = dot_xy / (np.linalg.norm(x) * np.linalg.norm(y))\n",
    "theta_deg = np.degrees(np.arccos(np.clip(cos_theta, -1.0, 1.0)))\n",
    "print('x·y =', dot_xy)\n",
    "print('θ (degrees) =', theta_deg)\n",
    "\n",
    "proj_y_on_x = ((x @ y) / (x @ x)) * x\n",
    "r = y - proj_y_on_x\n",
    "print('proj_x(y) =', proj_y_on_x)\n",
    "print('x·r (≈ 0) =', x @ r)"
   ]
  },
  {
   "cell_type": "markdown",
   "metadata": {},
   "source": [
    "### Visualizing projection in 2D"
   ]
  },
  {
   "cell_type": "code",
   "execution_count": 13,
   "metadata": {},
   "outputs": [
    {
     "data": {
      "image/png": "[encoded data removed]",
      "text/plain": [
       "<Figure size 400x400 with 1 Axes>"
      ]
     },
     "metadata": {},
     "output_type": "display_data"
    }
   ],
   "source": [
    "fig, ax = plt.subplots(figsize=(4,4))\n",
    "ax.axhline(0, color='0.8'); ax.axvline(0, color='0.8')\n",
    "def arrow(v, **kw):\n",
    "    ax.arrow(0, 0, v[0], v[1], head_width=0.15, length_includes_head=True, **kw)\n",
    "arrow(x, color='C0', width=0.01)\n",
    "arrow(y, color='C1', width=0.01)\n",
    "arrow(proj_y_on_x, color='C2', width=0.01)\n",
    "ax.set_aspect('equal', 'box')\n",
    "ax.set_xlim(-1, 6); ax.set_ylim(-1, 6)\n",
    "ax.set_title('Projection of y onto span{x}')\n",
    "ax.legend(['axes','x','y','proj_x(y)'])\n",
    "plt.show()"
   ]
  },
  {
   "cell_type": "markdown",
   "metadata": {},
   "source": [
    "> **Exercise 2.1**\n",
    "> - Write a function `proj(u, v)` returning the projection of `v` onto the line spanned by `u`.\n",
    "> - Pick two 3D vectors and verify orthogonality: `u @ (v - proj(u, v)) ≈ 0`."
   ]
  },
  {
   "cell_type": "code",
   "execution_count": 14,
   "metadata": {
    "tags": [
     "exercise"
    ]
   },
   "outputs": [],
   "source": [
    "# TODO\n",
    "# def proj(u, v):\n",
    "#     return ( (u @ v) / (u @ u) ) * u\n",
    "# u = ...\n",
    "# v = ...\n",
    "# print(u @ (v - proj(u, v)))\n",
    "pass"
   ]
  },
  {
   "cell_type": "markdown",
   "metadata": {},
   "source": [
    "## 3. Linear Regression\n",
    "We collect features into a **design matrix** $X\\in \\mathbb{R}^{n \\times d}$ and labels into $y \\in \\mathbb{R}^n$.\n",
    "We seek coefficients $\\mathbf{w} \\in \\mathbb{R}^d$ so that $X\\mathbf{w}$ is as close as possible to $\\mathbf{y}$ in the Euclidean sense:\n",
    "$$\\mathbf{w}^* = \\argmin_{\\mathbf{w}} \\; \\|y - X\\mathbf{w}\\|^2.$$\n",
    "The geometric solution: the best approximation $\\hat{\\mathbf{y}} = X\\mathbf{w}$ is the **orthogonal projection** of $\\mathbf{y}$ \n",
    "onto the column space of $X$.\n",
    "This orthogonality condition yields the **normal equations**\n",
    "$$X^\\top (y - X\\mathbf{w}) = 0 \\quad \\Rightarrow \\quad X^\\top X \\mathbf{w} = X^\\top \\mathbf{y}. $$\n",
    "We will compute $\\mathbf{w}$ using a numerically stable least-squares solver."
   ]
  },
  {
   "cell_type": "markdown",
   "id": "b7c80cfb",
   "metadata": {},
   "source": [
    "### Starter example\n",
    "We finish the example from class:\n",
    "$$(1,2), (2,1), (3,3), (4,2), (5,4)$$"
   ]
  },
  {
   "cell_type": "code",
   "execution_count": 15,
   "id": "0d00472f",
   "metadata": {},
   "outputs": [
    {
     "name": "stdout",
     "output_type": "stream",
     "text": [
      "Design matrix X:\n",
      " [[1. 1.]\n",
      " [2. 1.]\n",
      " [3. 1.]\n",
      " [4. 1.]\n",
      " [5. 1.]]\n",
      "X^T:\n",
      " [[1. 2. 3. 4. 5.]\n",
      " [1. 1. 1. 1. 1.]]\n",
      "X^T X:\n",
      " [[55. 15.]\n",
      " [15.  5.]]\n"
     ]
    }
   ],
   "source": [
    "\n",
    "# A. Data\n",
    "x = np.array([1, 2, 3, 4, 5], dtype=float)\n",
    "y = np.array([2, 1, 3, 2, 4], dtype=float)\n",
    "\n",
    "# B. Design matrix\n",
    "X = np.column_stack([x, np.ones_like(x)])   # stack the features alongside a column of 1s\n",
    "print('Design matrix X:\\n', X)\n",
    "\n",
    "# C. Compute X^T\n",
    "Xt = X.T\n",
    "print('X^T:\\n', Xt)\n",
    "\n",
    "# D. Compute X^T X\n",
    "XtX = Xt @ X\n",
    "print('X^T X:\\n', XtX)"
   ]
  },
  {
   "cell_type": "markdown",
   "id": "2a4aa355",
   "metadata": {},
   "source": [
    "> **Exercise.** Finish the example above by solving for the least-squares solution $\\mathbf{w} = [w_1, w_2]^\\top$."
   ]
  },
  {
   "cell_type": "code",
   "execution_count": 10,
   "id": "76a1df90",
   "metadata": {},
   "outputs": [],
   "source": [
    "# TODO: your work here\n",
    "# find the inverse of XtX:\n",
    "# XtX_inv = ...\n",
    "# print(' (X^T X)^-1:\\n', XtX_inv)\n",
    "# w = ...\n",
    "# print('Least-squares solution w:\\n', w)\n",
    "# print('Check: X^T(Xw) = X^Ty:\\n', Xt @ (X @ w), '=?=', Xt @ y)\n",
    "pass"
   ]
  },
  {
   "cell_type": "markdown",
   "id": "aac65d10",
   "metadata": {},
   "source": [
    "Let's plot your least-squares solution along with the data!"
   ]
  },
  {
   "cell_type": "code",
   "execution_count": 16,
   "id": "08a638bd",
   "metadata": {},
   "outputs": [
    {
     "data": {
      "image/png": "[encoded data removed]",
      "text/plain": [
       "<Figure size 640x480 with 1 Axes>"
      ]
     },
     "metadata": {},
     "output_type": "display_data"
    }
   ],
   "source": [
    "## for testing:\n",
    "w = np.array([0.5, 1.0])   # slope=0.5, intercept=1.0\n",
    "# # The shape of your w should be (2,), where w[0] is the slope and w[1] is the intercept,\n",
    "# in order for this part to work.\n",
    "# plot the data from the starter example and the least-squares line\n",
    "# plot the five points stored in (x,y):\n",
    "plt.scatter(x, y, color='C0', label='data points')\n",
    "# plot the least-squares line y = w[0]*x + w[1]:\n",
    "plt.plot(x, w[0]*x + w[1], color='C1', label='least-squares fit')\n",
    "# add the residuals as dashed lines\n",
    "for xi, yi in zip(x, y):\n",
    "    plt.plot([xi, xi], [yi, w[0]*xi + w[1]], color='C2', linestyle='--', label='residual' if xi == x[0] else \"\")\n",
    "plt.xlabel('x'); plt.ylabel('y')\n",
    "plt.title('Starter example')   \n",
    "plt.legend()\n",
    "plt.show()"
   ]
  },
  {
   "cell_type": "markdown",
   "metadata": {},
   "source": [
    "### Example: Fit a line to data (with intercept)\n",
    "We generate data from a line with small noise and recover the slope/intercept."
   ]
  },
  {
   "cell_type": "code",
   "execution_count": 17,
   "metadata": {},
   "outputs": [
    {
     "name": "stdout",
     "output_type": "stream",
     "text": [
      "Estimated slope    = 2.5546180978749407\n",
      "Estimated intercept= -1.105825009321032\n",
      "x · r (≈ 0): 8.215650382226158e-14\n",
      "1 · r (≈ 0): 1.1102230246251565e-15\n"
     ]
    },
    {
     "data": {
      "image/png": "[encoded data removed]",
      "text/plain": [
       "<Figure size 500x400 with 1 Axes>"
      ]
     },
     "metadata": {},
     "output_type": "display_data"
    }
   ],
   "source": [
    "# Generate synthetic data: y = 2.5 x - 1.0 + noise\n",
    "n = 30\n",
    "x = np.linspace(-2, 3, n)\n",
    "true_slope, true_intercept = 2.5, -1.0\n",
    "y = true_slope * x + true_intercept + rng.normal(0, 0.6, size=n)\n",
    "\n",
    "# Build design matrix with a column of ones for the intercept/bias\n",
    "# Model: y ≈ slope*x + intercept\n",
    "X = np.column_stack([x, np.ones_like(x)])\n",
    "\n",
    "# Solve least squares without forming (X^T X)^{-1} explicitly\n",
    "beta_hat, residuals, rank, s = np.linalg.lstsq(X, y, rcond=None)\n",
    "slope_hat, intercept_hat = beta_hat\n",
    "print('Estimated slope    =', slope_hat)\n",
    "print('Estimated intercept=', intercept_hat)\n",
    "\n",
    "# Predicted values and residuals\n",
    "y_hat = X @ beta_hat\n",
    "r = y - y_hat\n",
    "\n",
    "# Orthogonality of residuals to columns of X\n",
    "print('x · r (≈ 0):', x @ r)\n",
    "print('1 · r (≈ 0):', np.ones_like(x) @ r)\n",
    "\n",
    "# Plot data and fitted line\n",
    "xx = np.linspace(x.min()-0.5, x.max()+0.5, 200)\n",
    "yy = slope_hat * xx + intercept_hat\n",
    "fig, ax = plt.subplots(figsize=(5,4))\n",
    "ax.scatter(x, y, color='C0', label='data')\n",
    "ax.plot(xx, yy, color='C1', label=f'fit: y = {slope_hat:.2f} x + {intercept_hat:.2f}')\n",
    "for i in range(0, n, max(1, n//8)):\n",
    "    ax.plot([x[i], x[i]], [y_hat[i], y[i]], color='C3', lw=1)  # residual segment\n",
    "ax.set_xlabel('x'); ax.set_ylabel('y'); ax.legend()\n",
    "ax.set_title('Linear fit as projection onto span{[x, 1]}')\n",
    "plt.show()"
   ]
  },
  {
   "cell_type": "markdown",
   "id": "0be64d93",
   "metadata": {},
   "source": [
    "**Exercise 3.1**  **Normal equations (direct solve).** Compute \n",
    "`beta_NE = np.linalg.solve(X.T @ X, X.T @ y)` (when invertible) and compare with `beta_hat` from `lstsq`.\n",
    "\n",
    "Check `np.allclose(beta_NE, beta_hat)`. (The function `allclose` determines whether its arguments are element-wise equal to within a specified tolerance.)"
   ]
  },
  {
   "cell_type": "code",
   "execution_count": null,
   "id": "49696844",
   "metadata": {},
   "outputs": [],
   "source": [
    "# Your work\n",
    "# beta_NE = np.linalg.solve(X.T @ X, X.T @ y)\n",
    "# print('Match with lstsq?', np.allclose(beta_NE, beta_hat))\n",
    "pass"
   ]
  },
  {
   "cell_type": "markdown",
   "id": "0c594066",
   "metadata": {},
   "source": [
    "**Exercise 3.2**  **Column scaling.** Let `s = 2*x`. Form `Xs = np.column_stack([s, np.ones_like(s)])`.\n",
    "- Fit with `Xs`. Compare predicted values `X @ beta_hat` vs `Xs @ beta_s_hat`.\n",
    "- They should match (same line), though coefficients differ due to scaling."
   ]
  },
  {
   "cell_type": "code",
   "execution_count": null,
   "id": "fa9578c7",
   "metadata": {},
   "outputs": [],
   "source": [
    "# Your work\n",
    "# Xs = np.column_stack([2*x, np.ones_like(x)])\n",
    "# beta_s_hat, *_ = np.linalg.lstsq(Xs, y, rcond=None)\n",
    "# print('Predictions match?', np.allclose(X @ beta_hat, Xs @ beta_s_hat))\n",
    "pass"
   ]
  },
  {
   "cell_type": "markdown",
   "id": "e0b2e4f5",
   "metadata": {},
   "source": [
    "**Exercise 3.3**  **Rank deficiency (duplicate column).** Let `Xd = np.column_stack([x, x, np.ones_like(x)])`.\n",
    "- Solve with `np.linalg.lstsq` and inspect the reported `rank`.\n",
    "- Observe that predictions still match the 2-column model, but `rank < #columns`."
   ]
  },
  {
   "cell_type": "code",
   "execution_count": null,
   "id": "d1d0cd77",
   "metadata": {},
   "outputs": [],
   "source": [
    "# Your work\n",
    "# Xd = np.column_stack([x, x, np.ones_like(x)])\n",
    "# beta_d, residuals_d, rank_d, s_d = np.linalg.lstsq(Xd, y, rcond=None)\n",
    "# print('rank(Xd) =', rank_d)\n",
    "# print('Predictions match?', np.allclose(Xd @ beta_d, X @ beta_hat))\n",
    "pass"
   ]
  },
  {
   "cell_type": "markdown",
   "id": "ba5617de",
   "metadata": {},
   "source": [
    "\n",
    "### Exercise: Two‑feature least squares with a 3D visualization\n",
    "\n",
    "We will create data from a plane\n",
    "$y = a\\,x_1 + b\\,x_2 + c + \\varepsilon$,\n",
    "with small noise $\\varepsilon$, then recover $(a,b,c)$ by least squares.  \n",
    "\n",
    "**Tasks**\n",
    "1. Generate $n$ points $(x_1, x_2)$ and noisy $y$ from a known plane.\n",
    "2. Build $X = [\\,x_1\\ \\ x_2\\ \\ 1\\,]$ and compute $\\mathbf{w}^*$ with `np.linalg.lstsq`.\n",
    "3. Verify orthogonality: compute $X^\\top r$ and its norm.\n",
    "4. Make a **3D scatter** of $(x_1,x_2,y)$ and overlay the **fitted plane**.\n",
    "5. (Optional) Draw a few **vertical residuals** from the plane to data points.\n",
    "\n",
    "Try changing the noise level $\\sigma$, sample size $n$, or the true coefficients and see how the fit and residuals behave.\n"
   ]
  },
  {
   "cell_type": "code",
   "execution_count": 18,
   "id": "b4940d84",
   "metadata": {},
   "outputs": [
    {
     "data": {
      "application/vnd.plotly.v1+json": {
       "config": {
        "plotlyServerURL": "https://plot.ly"
       },
       "data": [
        {
         "marker": {
          "color": "royalblue",
          "opacity": 0.9,
          "size": 4
         },
         "mode": "markers",
         "name": "data",
         "type": "scatter3d",
         "x": {
          "bdata": "Umo8kT+q9D8Aj8Kp2k3uPxYMs5I6//a/+KDIVZ47/D+O0+jbx9HmvyCR3ASTKbg/YNIhbvBr8L++3dWQgXH3PxUyJYOmjuM/QIMtdrfs678OPQHLpLoFQPrSw68Rdui/N8SdY6Jc+z/IAugO9y7Evxzfaj36VQdAmfBrPIVK4b82Gx5/ORTlP6RO35op3PU/LLcBXqMpxz+9xQnCCxoCQKoCnfc7wQNAxN64nIZiBUCAmWaXMuPpPyboQ/SPk/W/leMYYHGhAkCaNtN7N5Xiv3BW0QTVxPI/GmcVNPHO6b+VfFys2zjrv1uSisaLHv8//9X6TJkT4r/KUCSxR04CQL5NiacCSQVA9GReL0ljBUBJmlhOc+PqP8gwopp88Oq/NDoxIrMuB0CYACThNRjSvyk8nFWztfU/KANdMfVEBkDwE6SoDSahv3QOYYd84P6/KOouTq+J0T+W6oumF3z9P3sE8dnsm+K/kon5iFEh8r8EVvB41coCQHxaGicrYsq/poSS6yoh97/+VJkjWknSP5AIvVaHiPC/rCJPjoSP8j/zuYUDeTUBQNzC7ZCUCvC/AE/u320vpD8Kvy5fdE/2vy9MguJ8KuA//Dvhwjby+D+s4akmSBcEQOi8DCFjUO6/DMjB62ca+b9C/lib+FD/v8Is1zQWSvy/DPtuCrcq8T+5ZXF2E7biPyxZsmzbC/q/tLwELtkh4j/I8KSvhX4HQKAdLitQqfU/mjOhlyNE6L+UH4UORXIBQFTmH+boGQBAlt839/h66j8I6IgauN3yP1uz0zK4iv2/8ryMnDHj67+TSCdzjCnuv19uZyGDrgdAtEzE+oZn/r+1IVrIiIz7v36vaItR3Po/iohRSziS379JqWVRZ4vuP6w4bKlJ+e0/anbtBBa64L+cHsjtxEfDP1bp4vY1jfc/LKzwHyjp7z92qF59LzUDQIYhmU86yfi/YRalsuTJ5D8kpDO7DdPyP6jmOLDf4vK/a5kAqT6v9j/2Z3+1IdX5P8SpcdlwS/g/hj1RXuT0/D8sEaTGFKf3P0bKGXC9StQ/+N4t1lqL7D8gyMor2cb7v+wXlnYZ1vO/8LYEPnoWq79LpNSKi2vov4zkZ72Jzvc/GKPebrqL/79Js75vmX7jPzl/gZc9jPc/poklynCD8j/5WuV1/vHxv256kG5AYdC/elNf9W2U7T/c2nw8GSP4P/I8VwLZbPW/qJJf4KVv8T9cdKsXbqT3v1QmOI2sbwVAYMjW+u9dub8WNhXMTinlPxuo049aE/2/0C76tUtV3L8xE6A4D03kPyoNIqxCU/G/gponWF/eAEDsKdc4EAnKPzFbfxBZdQRA1fEG/be/9T99a2bz7KLyPwTWuV51290/7bIXx86h4T+421EcRVK4v56azw+xON4//OCr98Qy/j99ueOWptX1v91t/n7BP+Q/0IeGgutguL++BOWS1CP1v0vjBWx2RuI/NltyWTWt8T9Dsfd5Yw3zPxCjqwm+VPY/za5qreaV4z+a1xMLxkv6P8lf1448FAFAvgS0JGEB2D/XfqQ6PJIAQD1BRDZk6QFAkS1OqXISAEDi6cdwMbjZv84Bwi7/3fs/",
          "dtype": "f8"
         },
         "y": {
          "bdata": "FwqB5AhT/D/qsKE3e9/7P6+loDXFOOY/I5oyl8nRCkAT7rMZ1RDrv0wLRoT5jMm/X0PWThtZDEDElKaPmo4DQGS/v6uv+e6/ZozT0kxL0T/2A+RBMsL5P22YJcJsqe0/IrDp1kWA2b84mZaXYlXuP6w9PV//6Po/sB4hj8eZtD8w4/MXYqumv1apQCcTwQFAetmNbxPrBkBQevucZaHBv00dpYcjjQBABgNXBAYo77+QuV5PwC3Nv2C01QjZCek/Kv1JJiIz9D9HgWJwqdgCQPvS6fdp+O0/4XAmy25xCUDB6CzeWrnhP3fRjeTRA+g/dIbIVBQHCUAANkoSP8W5v9V0o5cju+G/wy4cLT4BCECK8KyIf80EQCoXzIAoqta/pPPsACdz7z9AauVYwdYKQFrkFPzc9QZAboBZYtkH+z8wGzz+5OCgv7ijluGMELe/TIwOO0Qd3j+OFztPGi8DQErStbpxlgpAR0gF0oR3A0Cxsm29Ooriv4/sqvAuK/A/ytxhSusPAEBL2V2Z1OQNQKZr2/g/4v4/9LZv14HdA0ASTMIyYxvsvyVAxp7N0Oc/wWnXfiRXCkAAyaLZ34n9Pzd7phgEuwZAQKAA2wE1pL8yWK6ZcP/9P1i31gG9FgZAKKqMmjaUD0A95yUj2sADQC9iYQdmCew/9NVAGJTN9z8UhWUFPr75P1d5mQvhMA9AKLPq4iGBCEANoZsRXQEHQJW1wYEjbu8/bgy1W5d1BUB0OPaNQ1HEP0Rb5p5PgwdAsPUxee20/z/bj3YeQ7frv5zD3hObsv0/VL18Id8T6b8aISzavj/xP1Xvj5jpbOu/UCY6zUXUC0DAhARu3W+VP/h9vxhuQwBAa82qXXkABkCiaihyXjDnv4AChTrknfA/2Gavh8xO+D8C6IYnh8PgP3itvzJLbNa/jsMFcNoyDUBs4TVtGSPCv75NBVEd8NM/HyDqeKMYA0Bxk3KUpDzlv4ql35l96AJAuutlohXNAECJz0J41iHpv26ETCNfFPw//i/ppdMP9j8Aq1gZ8ELiP8mzC7Bk//E/OKK1mVyzA0BWItpWt9zlP+FpbpJSCQpAV2EdJ/JtDUDPMowB9RHzPxrqUF8asAJAvYtwvC4LC0As/MbdcTDZP9AsHatVigZAXHzibddV5j/wcyvZm/Xdv1YRnIIliQ1ALqltsaL67b9t2eRkacbvP/lOJATzaAdAmMRntHBO5b+RfMS344PrP9Kmk1Do+A1ABveUnHLcCEBIlZjbmCfEv9RNbUu0XNo/2ze26SrdAEBeJ3Zcf8L7PzBe5QTFfvo/HLv5JlOCAkAyqTaS4pwMQG0leMOCcAJAIGig+Kq7/j8ioVyMtkUBQLp5rnRSR+u/aUtO4zl9+z/aSvCgWcz7P6iyiRJbZgFAoBNNFL7+pr9mAnOhCA7qPyAWyj68CwpAYRQYB2R28j/KkIbu1bgIQMrLQkPGmAFAYKcbtwlEkD+2godAOTwNQAxzDq7padq/eKdSyhd0+z9Gc5YH5H78Py6O7CnznwBAJAlm6s1xyL/9WrWaw6ICQCsUqcxG5w5ApI/nZAAxBkC2CnsWjxkIQHABN1o1/sy/",
          "dtype": "f8"
         },
         "z": {
          "bdata": "oGnLcjf1yz+FAc9CobfbP7d1aR7cEgDADL1FzFnFy79+e2CrpFLMv47SR1ntO+k/XL8mUxPAEMCVMAk6ZB3ZP3IOKJskC/o/MCwxXyZ29b/kV7B+jgkEQPYjoTyUdPy/Q8ayMQoqC0AGPAMK72zwv5ecf6WhrghAifso/JOY4b/6B8C7PJLuP3YropBsiuA/zifEi6bNAsATigZANywQQKCYCQM4wQBAlTT4+MFfFEA5x1PlM5P9P1IJJwlE4gbAAt318G8aA0A5BFEXh6sEwPmvUEB4kPc/2pO34UxzCMBP+ta7CFn4v5d5T03IcQRA9HGlp6YICMAXwLJ8r2gMQL4T5GqtdBJA4O/GIU0TAECOzKRkUVLvv59qdLbCruS/1ROEjYJbEEBkVR5aBGMJwH0lED57y9O/STwTU/KsCkAe3IFmmQ7gPwjDgp/MPwjA7hLVt39i3D/HqjZt+jT0PymY02pppwvA2zyea0VVCsCRL4bnLs8QQJx0Nw5DQeS/3pZfVwsfDsCaZWtAnn8CwGeN0hf6AArAvqELzHsp1D8LrQtpU+AQQC4W7H4i6/6/x5T21tUcBcA37XEoDoAJwHp5j99cUfO/3o4Hv016BUDygCoa404DQITC5q7zsQrA6/6g9FvEFcDi1LU9oLoUwFNAl5t0+wnAXpgvEN+93j99rNrAOgTXv7lnn6B92RPAYgxaxRkq978brO4vGBMDQCPKssZMBvU/2VJyBQclCcAJnTKUCUMLQCMgcGSgWO4/1EHi6RVTpb/YjXOt+6gBQDACsv8OBw7AShj3w/diwb+IYMvKieT+v73N+GldHxRAmY7Pg87pF8AolzWlrRMGwLzosIVBXvY/i8L7hkMCCcDSAiks5mEGQMA2PBNJkNc/3vJ50jRNAcAA3e//DcmJP3aWmYiLfQJAoCsrAObG9L/wu7hS+kkQQBBQibgengDAweJHFa6s5b/lusFkwEgBQNYAeY0DFgzAvfDCiWhT4z/o+QJkiOEHQNLIwcxQaew/GPdNZ0SA/D/j7CO9cqr5P4LsvOyt39y/L4drxiPx57+RNxcuxrgIwG4dcf5UohHAAbquE40sCMAcEuNWnSv7v9B18DHM4eo/PDR7mTlQFsBpzJmUGwvtP9BephOy/rQ/2qSjlZFr+D//EAC5hPnhv6W7EXSXqgjAgdKg0U/rBUA7qWKEsQz6P5XWw+r+/QzAZ0ksRkdqA0Doqifk4gwDwO6qSR5jDfA/TnqHaxY0AcANb3aRblr+P6Fixq0eoAbAtMB1BygOAcD2ZgpH1Gu3v4h26c7VvgTAVwcYoVzk/T+tpBNUpXwBwB8Hl9r9Rv8/fVFqiXzv5T/yDKehEAC3P6KXaAbi6Po/+lm5sllqzL/4Jn+jHmT3v1Sb9bRGdeK/ufS57HrnCkAEZOoSxXcDwIK9Slugbvu/+gth9bFV8r89yWkKrigRwHQR34K96cs/mqlEAHlw+z98LMqOy6fjvzhqUo0S2QRA3BcNH9D9z78ufF3enb7xP9WKBtVVPP0/JqCNY4515T98tTk5fH/xP48k03/75t8/XqzxBvtQ8j+N3MOeBhQIwGCXN/oOewRA",
          "dtype": "f8"
         }
        },
        {
         "colorscale": [
          [
           0,
           "#440154"
          ],
          [
           0.1111111111111111,
           "#482878"
          ],
          [
           0.2222222222222222,
           "#3e4989"
          ],
          [
           0.3333333333333333,
           "#31688e"
          ],
          [
           0.4444444444444444,
           "#26828e"
          ],
          [
           0.5555555555555556,
           "#1f9e89"
          ],
          [
           0.6666666666666666,
           "#35b779"
          ],
          [
           0.7777777777777778,
           "#6ece58"
          ],
          [
           0.8888888888888888,
           "#b5de2b"
          ],
          [
           1,
           "#fde725"
          ]
         ],
         "name": "fitted plane",
         "opacity": 0.6,
         "showscale": false,
         "type": "surface",
         "x": {
          "bdata": "jFFvN93FA8CgTDUHXo4CwLRH+9beVgHAyELBpl8fAMC6ew7twM/9v+JxmozCYPu/CmgmLMTx+L8zXrLLxYL2v1tUPmvHE/S/g0rKCsmk8b9YgaxUlWvuv6htxJOYjem/+Fnc0puv5L+UjOgjPqPfvzhlGKJE59W/sHuQQJZWyL/As8DzjHqjv6BDYI2fMr0/SDgoZaEI0T+gX/jmmsTaP4BDZDRKQOI/MFdM9UYe5z/gajS2Q/zrP0g/jjsgbfA/IEkCnB7c8j/2Unb8HEv1P85c6lwbuvc/pGZevRkp+j98cNIdGJj8P1R6Rn4WB/8/FkJdbwq7AEACR5efifIBQO5L0c8IKgNA2lALAIhhBEDGVUUwB5kFQLJaf2CG0AZAnl+5kAUICECKZPPAhD8JQHRpLfEDdwpAX25nIYOuC0A=",
          "dtype": "f8"
         },
         "y": {
          "bdata": "g4ErAgOU97+e6wiEJyb1v7pV5gVMuPK/1b/Dh3BK8L/hU0ITKrnrvxgo/RZz3ea/Tvy3GrwB4r8MoeU8Ckzav3hJW0SclNC/kMdDL7l0u79gLctl/dGmP4B6h0pbI8k/1BTOnRtJ1j8yNizLRADgP/phccf72+Q/xo22w7K36T+Oufu/aZPuP6tyIF6Qt/E/kQhD3Gsl9D91nmVaR5P2P1k0iNgiAfk/P8qqVv5u+z8jYM3U2dz9PwT7d6laJQBA9kWJaEhcAUDokJonNpMCQNrbq+YjygNAzCa9pREBBUC+cc5k/zcGQLK83yPtbgdApAfx4tqlCECWUgKiyNwJQIidE2G2EwtAeugkIKRKDEBsMzbfkYENQF5+R55/uA5AUslYXW3vD0AiCjWOLZMQQJuvvW2kLhFAFFVGTRvKEUA=",
          "dtype": "f8"
         },
         "z": {
          "bdata": "Ncvgnm8bAsAVr5weNUoAwOslsTz18fy/qu0oPIBP+b9staA7C631vyx9GDuWCvK/1IkgdULQ7L9YGRB0WIvlv6xR/+XcjNy/T+G8xxEGzL+QCk7IY9mAP7GixkA+Ic4/WjKEInOa3T+riVKSIxLmPyn6YpMNV+0/VrU5yvtN8j+W7cHKcPD1P9clSsvlkvk/F17Sy1o1/T8rSy3m52sAQEtncWYiPQJAa4O15lwOBECMn/lml98FQK27PefRsAdAzdeBZwyCCUDr88XnRlMLQAsQCmiBJA1AKyxO6Lv1DkAlJEk0e2MQQDUya3QYTBFARUCNtLU0EkBVTq/0Uh0TQGZc0TTwBRRAdmrzdI3uFECGeBW1KtcVQJaGN/XHvxZAp5RZNWWoF0C3ont1ApEYQMWwnbWfeRlA1b6/9TxiGkCsXuMZKhkDwItCn5nvRwHA10y2Mmrt/r+XFC4y9Ur7v1ncpTGAqPe/GaQdMQsG9L/Xa5UwlmPwvzJnGmBCgum/sPYJX1g94r9cDPO73PDVv36tSOcinL2/ktY6IS2LvD+mlm9Kn6zVP9E7SKY5G+I/T6xYpyNg6T9pjjTUhlLwP6nGvNT79PM/6v5E1XCX9z8qN83V5Tn7P2hvVdZa3P4/1dNu62c/AUD177JrohADQBUM9+vc4QRANig7bBezBkBWRH/sUYQIQHVgw2yMVQpAlXwH7cYmDEC0mEttAfgNQNS0j+07yQ9AeujpNjvNEECK9gt32LURQJoELrd1nhJAqhJQ9xKHE0C6IHI3sG8UQMoulHdNWBVA2jy2t+pAFkDsStj3hykXQPxY+jclEhhACmcceML6GEAadT64X+MZQCLy5ZTkFgTAAdahFKpFAsDhuV2Ub3QAwIM7MyhqRv2/RQOrJ/Wj+b8FyyIngAH2v8OSmiYLX/K/CrUkTCx57b+HRBRLQjTmvwqoB5Sw3t2/G47NI7mpzr8wwbz4EWGJv/H1teSWfcs/9Nt7dJ9I3D94Xk67OWnlP/rOXrwjruw/vp+33ob58T/+1z/f+5v1Pz8QyN9wPvk/fUhQ4OXg/D9fQGxwrUEAQH9csPDnEgJAoHj0cCLkA0DAlDjxXLUFQOCwfHGXhgdA/8zA8dFXCUAf6QRyDCkLQD4FSfJG+gxAXiGNcoHLDkC/nmj5XU4QQM+sijn7NhFA37qseZgfEkDwyM65NQgTQADX8PnS8BNAEOUSOnDZFEAg8zR6DcIVQDEBV7qqqhZAQQ95+keTF0BPHZs65XsYQF8rvXqCZBlAmIXoD58UBcB3aaSPZEMDwFdNYA8qcgHAb2I4Ht9B/78xKrAdap/7v/HxJx31/Pe/r7mfHIBa9L9xgRccC7jwv16SHjcsK+q/3SEONkLm4r++YvtpsELXv3MDtc+4ccG/In0Zad5Dtz9EQGecy1rUP6AQRM9PcuE/IoFU0Dm36D+j8WTRI/zvPxKxOumGoPM/U+nC6ftC9z+RIUvqcOX6P9FZ0+rlh/4/CcmtdS0VAUAq5fH1Z+YCQEoBNnaitwRAah169tyIBkCJOb52F1oIQKlVAvdRKwpAyHFGd4z8C0DojYr3xs0NQAmqzncBnw9AFGMJ/B24EEAkcSs8u6ARQDV/TXxYiRJARY1vvPVxE0BVm5H8kloUQGWpszwwQxVAdrfVfM0rFkCGxfe8ahQXQJTTGf0H/RdApOE7PaXlGEAOGeuKWRIGwO38pgofQQTAzeBiiuRvAsCtxB4Kqp4AwB1RtRPfmv2/3RgtE2r4+b+b4KQS9VX2v12oHBKAs/K/NuAoIxYi7r+1bxgiLN3mv27+D0KEMN+/ah3vP7Cm0L8843Hu4eagvylJpYjv2cg/kIVzxsv22j9KM0rkT8DkP8ujWuU5Bew/Joo18xGl8T9nwr3zhkf1P6X6RfT76fg/5TLO9HCM/D+TNav6chcAQLRR73qt6AFA1G0z++e5A0D0iXd7IosFQBOmu/tcXAdAM8L/e5ctCUBS3kP80f4KQHL6h3wM0AxAkxbM/EahDkBZGYi+QDkQQGknqv7dIRFAejXMPnsKEkCKQ+5+GPMSQJpREL+12xNAql8y/1LEFEC7bVQ/8KwVQMt7dn+NlRZA2YmYvyp+F0Dpl7r/x2YYQISs7QUUEAfAY5Cphdk+BcBDdGUFn20DwCNYIYVknAHACXi6CVSW/7/JPzIJ3/P7v4cHqghqUfi/Sc8hCPWu9L8Hl5kHgAzxv469Ig4W1Oq/D00SDSyP478auQMYhJTYvy+wxStgFcS/kiP4sI/8sT/g6V7u9wjTP3LlP/hlyeA/81VQ+U8O6D90xmD6OVPvP3ubuP0RTPM/udNA/obu9j/5C8n++5D6PzlEUf9wM/4/Pr7s//LqAEBe2jCALbwCQH72dABojQRAnRK5gKJeBkC9Lv0A3S8IQNxKQYEXAQpA/GaFAVLSC0Adg8mBjKMNQD2fDQLHdA9Art0owQCjEEC/60oBnosRQM/5bEE7dBJA3wePgdhcE0DvFbHBdUUUQAAk0wETLhVAEDL1QbAWFkAeQBeCTf8WQC5OOcLq5xdA+j/wgM4NCMDZI6wAlDwGwLkHaIBZawTAmesjAB+aAsB6z99/5MgAwLVmN/9T7/2/cy6v/t5M+r819ib+aar2v/S9nv30B/O/Zgst+v/K7r/omhz5FYbnv2YqDPgrQeC/yHP37YP40b9klrRef3Wrv1+clCxINsY/NC9rGPik2T8bCEYNZhfkP5x4Vg5QXOs/j3SzB51Q8T/MrDsIEvP0Pw3lwwiHlfg/TR1MCfw3/D+OVdQJcdr/P+hGLgVzvgFACGNyha2PA0Anf7YF6GAFQEeb+oUiMgdAZrc+Bl0DCUCG04KGl9QKQKfvxgbSpQxAxwsLhwx3DkDzk6eDIyQQQASiycPADBFAFLDrA171EUAkvg1E+90SQDTML4SYxhNARdpRxDWvFEBV6HME05cVQGP2lURwgBZAcwS4hA1pF0Bw0/L7iAsJwE+3rntOOgfAL5tq+xNpBcAPfyZ72ZcDwPBi4vqexgHAoY089cjq/79eVbT0U0j8vyAdLPTepfi/3+Sj82kD9b+erBvz9GDxv77oJuX/fOu/PHgW5BU45L94DwzGV+bZv/Vc1ocHuca/DJSt8YFqqT+Gk1ZAJLfRP0S6OyF8IOA/xSpMImZl5z9Gm1wjUKruP+GFNhKd9/I/Ib6+EhKa9j9i9kYThzz6P6MuzxP83v0/crMrirjAAECSz28K85ECQLHrs4otYwRA0Qf4Cmg0BkDwIzyLogUIQBBAgAvd1glAMVzEixeoC0BReAgMUnkNQHGUTIyMSg9ASVhIhuONEEBZZmrGgHYRQGl0jAYeXxJAeYKuRrtHE0CKkNCGWDAUQJqe8sb1GBVAqKwUB5MBFkC4ujZHMOoWQOZm9XZDCQrAxUqx9gg4CMClLm12zmYGwIUSKfaTlQTAZvbkdVnEAsBG2qD1HvMAwEt8uerIQ/6/DUQx6lOh+r/MC6np3v72v4vTIOlpXPO/mDYx0elz778WxiDQ/y7ov5RVEM8V6uC/LMr/m1dK07/CpHtnDgKzv6fvg9CgksM/1thiaiRT2D/s3EE2fG7jP21NUjdms+o/9F4xHCj88D81l7kcnZ70P3XPQR0SQfg/tgfKHYfj+z/3P1Ie/IX/Pxw8bY84lAFAO1ixD3NlA0BbdPWPrTYFQHqQORDoBwdAmqx9kCLZCEC7yMEQXaoKQNvkBZGXewxA+wBKEdJMDkCODsdIBg8QQJ4c6Yij9xBArioLyUDgEUC+OC0J3sgSQM9GT0l7sRNA31RxiRiaFEDtYpPJtYIVQP1wtQlTaxZAXPr38f0GC8A73rNxwzUJwBvCb/GIZAfA+6UrcU6TBcDciefwE8IDwLxto3DZ8AHAm1Ff8J4fAMD5ajbgyJz8v7gyrt9T+vi/d/ol395X9b84wp3eabXxv+4TK7zpJey/baMau//g5L/eZRR0Kzjbv8MJ5+OuXMm/KMLVAsm3nT8kPU6SUGXQPyYeb5Qk794/lf9HS3y85j8QcFhMZgHuP0lwtCYoo/I/iag8J51F9j/K4MQnEuj5PwsZTSiHiv0/pqhqFH6WAEDFxK6UuGcCQOXg8hTzOARABP02lS0KBkAkGXsVaNsHQEU1v5WirAlAZVEDFt19C0CFbUeWF08NQKaJixZSIA9A49JnS8Z4EEDy4ImLY2ERQALvq8sAShJAE/3NC54yE0AjC/BLOxsUQDEZEozYAxVAQSc0zHXsFUDSjfpsuAQMwLFxtux9MwrAkVVybENiCMBxOS7sCJEGwFId6mvOvwTAMgGm65PuAsAR5WFrWR0BwOWRO9Y9mP6/pFmz1cj1+r9jISvVU1P3vyTpotTesPO/47Aa1GkO8L9E8SSn6dfov8aAFKb/kuG/kCAISiuc1L8u/pwfXUm4v+xCc3T57sA/eIJavFAB1z++sT1fksXiPzkiTmB8Cuo/XUmvMLOn8D+dgTcxKEr0P965vzGd7Pc/H/JHMhKP+z9fKtAyhzH/P08xrBn+aQFAb03wmTg7A0COaTQacwwFQK6FeJqt3QZAz6G8GuiuCEDvvQCbIoAKQA/aRBtdUQxAMPaIm5ciDkBQEs0b0vMPQDiXCE6G4hBASKUqjiPLEUBZs0zOwLMSQGnBbg5enBNAd8+QTvuEFECH3bKOmG0VQEgh/edyAg3AJwW5ZzgxC8AH6XTn/V8JwOfMMGfDjgfAyLDs5oi9BcColKhmTuwDwId4ZOYTGwLAaFwgZtlJAMCPgLjLPfH8v09IMMvITvm/EBCoylOs9b/P1x/K3gnyvxw/L5PTzuy/n84ekumJ5b9CvBwi/4ncv3u29z9WAMy/oLigRBw1gT+PzYvI+SbOP8rHZuZQnd0/YNRDdJIT5j/hRFR1fFjtP7FaMjuzTvI/8pK6Oyjx9T8zy0I8nZP5P3MDyzwSNv0/2Z2pnkNsAED5ue0efj0CQBjWMZ+4DgRAOPJ1H/PfBUBZDrqfLbEHQHkq/h9ogglAmUZCoKJTC0C6YoYg3SQNQNp+yqAX9g5AfU2HEKljEECNW6lQRkwRQJ5py5DjNBJArnft0IAdE0C8hQ8RHgYUQMyTMVG77hRAvrT/Yi0ADsCdmLvi8i4MwH18d2K4XQrAXWAz4n2MCMA+RO9hQ7sGwB4oq+EI6gTA/QtnYc4YA8De7yLhk0cBwH2nvcGy7P6/O281wT1K+7/8Nq3AyKf3v7v+JMBTBfS/e8acv95i8L94HCl+04Dpv/qrGH3pO+K/8HYQ+P7t1b+yV77Xq5C9v1gsxTCklrw/GCxSDn2v1T+IhjmIqBziPwj3SYmSYek/xTMtRT5T8D8GbLVFs/XzP0ekPUYomPc/h9zFRp06+z/FFE5HEt3+P4Mm66PDPwFAokIvJP4QA0DCXnOkOOIEQON6tyRzswZAA5f7pK2ECEAjsz8l6FUKQETPg6UiJwxAZOvHJV34DUCEBwyml8kPQNIRKBNpzRBA4h9KUwa2EUDyLWyTo54SQAA8jtNAhxNAEEqwE95vFEAzSALe5/0OwBMsvl2tLA3A8w963XJbC8DT8zVdOIoJwLTX8dz9uAfAlLutXMPnBcBzn2nciBYEwFSDJVxORQLAM2fh2xN0AMAnljq3skX9v+hdsrY9o/m/pyUqtsgA9r9m7aG1U17yv05qM2q9d+2/0PkiadMy5r+cEiXQ0tvdvzVjCJz9o86/ABNqfFkFib/VIHtsUoPLP2JxXjh9S9w/Mqk/nahq5T+yGVCekq/sPxpFsE8++vE/W304ULOc9T+btcBQKD/5P9ntSFGd4fw/DZPoKAlCAEAsryypQxMCQEzLcCl+5ANAbee0qbi1BUCNA/kp84YHQK0fPaotWAlAzjuBKmgpC0DuV8WqovoMQA50CSvdyw5AF8im1YtOEEAo1sgVKTcRQDjk6lXGHxJARvIMlmMIE0BWAC/WAPETQKnbBFmi+w/Aib/A2GcqDsBpo3xYLVkMwEmHONjyhwrAKmv0V7i2CMAKT7DXfeUGwOkybFdDFAXAyhYo1whDA8Cp+uNWznEBwBO9P60nQf+/04S3rLKe+7+TTC+sPfz3v1IUp6vIWfS/E9weq1O38L+oRy1VvSnqvybXHFTT5OK/Ss0YptI/17+P2O9H/WvBv+7So3hVT7c/stVJYKld1D9aWzWxvnPhP9vLRbKouOg/XTxWs5L97z9vVjNaPqHzP6+Ou1qzQ/c/7cZDWyjm+j8t/8tbnYj+P7YbKi6JFQFA1jdursPmAkD3U7Iu/rcEQBdw9q44iQZAN4w6L3NaCEBYqH6vrSsKQHjEwi/o/AtAmOAGsCLODUC4/EowXZ8PQG2MR9hLuBBAfZppGOmgEUCLqItYhokSQJu2rZgjchNAkbcDaq58EMD/UsNTIigPwN82f9PnVg3Avxo7U62FC8Cg/vbScrQJwIDislI44wfAX8Zu0v0RBsBAqipSw0AEwCCO5tGIbwLA/3GiUU6eAMDBq7yiJ5r9v39zNKKy9/m/PzusoT1V9r8AAyShyLLyv4KVN0GnIO6/ACUnQL3b5r/+aC1+pi3fv/yHDHzSo9C/xDddz/PPoL/9c2oQq9/IPwAbVoqp+do/AX47xr7B5D+D7kvHqAbsP4MvLmTJpfE/w2e2ZD5I9T8BoD5ls+r4P0HYxmUojfw/QIgns84XAEBgpGszCekBQIHAr7NDugNAodzzM36LBUDB+De0uFwHQOIUfDTzLQlAAjHAtC3/CkAiTQQ1aNAMQEJpSLWioQ5AskLGmm45EEDBUOjaCyIRQM9eChupChJA32wsW0bzEkBMAYWni/sQwDvzYmfuEhDAVcqBTqJUDsA1rj3OZ4MMwBaS+U0tsgrA9nW1zfLgCMDVWXFNuA8HwLY9Lc19PgXAlSHpTENtA8B1BaXMCJwBwKvSwZiclf+/a5o5mCfz+78rYrGXslD4v+spKZc9rvS/rfGglsgL8b/WcjEsp9Lqv1YCISu9jeO/qiMhVKaR2L9NhQCkpA/Ev0J5gsAGCLI/Un9BstUL0z8qMDHa1MrgP6ygQdu+D+g/LhFS3KhU7z/XQLFuyUzzPxV5OW8+7/Y/VbHBb7OR+j+T6UlwKDT+P+oQabhO6wBACy2tOIm8AkArSfG4w40EQEtlNTn+XgZAbIF5uTgwCECMnb05cwEKQKy5Abqt0gtAzNVFOuijDUDu8Ym6InUPQAcHZ50uoxBAFBWJ3cuLEUAkI6sdaXQSQAZLBuVoehHA9jzkpMuREMDLXYTJXFIPwKtBQEkigQ3AjCX8yOevC8BsCbhIrd4JwEvtc8hyDQjALNEvSDg8BsALtevH/WoEwOuYp0fDmQLAy3xjx4jIAMBXwT6OnO79vxaJto0nTPq/11AujbKp9r+YGKaMPQfzv67AOxiRye6/LVArF6eE57+s3xoWvT/gv1TeFCqm9dG/7OqfP5Feq79Jx1m0AzzGP6bETdzVp9k/1VI379QY5D9Xw0fwvl3rP+wZrHhUUfE/KVI0ecnz9D9pirx5Ppb4P6fCRHqzOPw/5/rMeijb/z+Vmaq9zr4BQLW17j0JkANA1dEyvkNhBUD27XY+fjIHQBYKu764AwlANib/PvPUCkBWQkO/LaYMQHhehz9odw5ATL3lX1EkEEBayweg7gwRQGrZKeCL9RFAwpSHIkb5EcCxhmXiqBARwKF4Q6ILKBDAIdVCxNx+DsADuf5Doq0MwOOcusNn3ArAwYB2Qy0LCcCjZDLD8jkHwIJI7kK4aAXAYSyqwn2XA8BCEGZCQ8YBwEPoQ4QR6v+/A7C7g5xH/L/FdzODJ6X4v4U/q4KyAvW/RQcjgj1g8b8InjUDkXvrv4ctJQKnNuS/DHopAnrj2b8nMhEATLPGv3Q/whBwgak/8Cg5BAK60T/6BC0D6yHgP3x1PQTVZuc//OVNBb+r7j88Ky+DVPjyP3xjt4PJmvY/ups/hD49+j/608eEs9/9Px4GqEIUwQBAPyLswk6SAkBfPjBDiWMEQH9adMPDNAZAn3a4Q/4FCEC/kvzDONcJQN+uQERzqAtAAcuExK15DUAh58hE6EoPQJ6BhmIRjhBAro+ooq52EUB83ghgI3gSwGzQ5h+GjxHAXMLE3+imEMCXaEU/l3wPwHhMAb9cqw3AWDC9PiLaC8A3FHm+5wgKwBj4ND6tNwjA99vwvXJmBsDXv6w9OJUEwLejaL39wwLAl4ckPcPyAMDv1sB5EUP+v6+eOHmcoPq/cWaweCf+9r8vLih4slvzv97rP+96cu+/XXsv7pAt6L/cCh/tpujgv8A0Hdh5R9O/9k7xV5f2sr+JGklYXJjDP0huRS4CVtg/piczGOtv4z8mmEMZ1bTqP1EEKo3f/PA/kTyyjVSf9D/PdDqOyUH4Pw+two4+5Ps/UeVKj7OG/z/JjulHlJQBQOmqLcjOZQNACsdxSAk3BUAq47XIQwgHQEr/+Uh+2QhAahs+ybiqCkCMN4JJ83sMQKxTxsktTQ5A5DcFJTQPEED0RSdl0fcQQDgoip0A9xLAJxpoXWMOEsAXDEYdxiURwAf+I90oPRDA798DOhepDsDOw7+53NcMwK2nezmiBgvAjos3uWc1CcBtb/M4LWQHwE1Tr7jykgXALTdrOLjBA8ANGye4ffABwO3+4jdDHwDAm8U9bxGc/L9djbVunPn4vxtVLW4nV/W/2xylbbK08b80yTnaeiTsv7RYKdmQ3+S/cNAxsE0127/b3iFc81bJv0gZ/0Cl5Z0/mNIwVi5o0D+cs1FYAvLeP05KOS3rveY/yrpJLtUC7j+lFa2X36PyP+NNNZhURvY/I4a9mMno+T9lvkWZPov9P1P75szZlgBAcxcrTRRoAkCUM2/NTjkEQLRPs02JCgZA1Gv3zcPbB0D0hztO/qwJQBakf844fgtANsDDTnNPDUBS3AfPrSAPQDn8pSf0eBBA83EL2911E8DiY+maQI0SwNJVx1qjpBHAwkelGga8EMBlcwa10aYPwEVXwjSX1Q3AIzt+tFwEDMAFHzo0IjMKwOQC9rPnYQjAw+axM62QBsCkym2zcr8EwIOuKTM47gLAY5Llsv0cAcCJ7EJlhpf+v0m0umQR9fq/CXwyZJxS97/IQ6pjJ7Dzv4cLImOyDfC/jqYzxXrW6L8SNiPEkJHhvyKLJYZNmdS/fqgSEOY9uL/JbTj8tPTAP+gXPYAuBNc/dPwuQQHH4j/wbD9C6wvqP7jup6FqqPA/9iYwot9K9D82X7iiVO33P3iXQKPJj/s/uM/Ioz4y/z/8gyjSWWoBQB2gbFKUOwNAPbyw0s4MBUBd2PRSCd4GQH30ONNDrwhAnxB9U36ACkC/LMHTuFEMQNtIBVTzIg5A+2RJ1C30D0Cuu4wYu/QTwJ2tatgdDBPAjZ9ImIAjEsB9kSZY4zoRwG6DBBhGUhDAu+rEr1HTDsCZzoAvFwINwHqyPK/cMAvAWZb4LqJfCcA5erSuZ44HwBlecC4tvQXA+UEsrvLrA8DZJegtuBoCwLkJpK19SQDANdu/Wobw/L/zojdaEU75v7Nqr1mcq/W/cjInWScJ8r9k9D2xZM3sv+iDLbB6iOW/ziY6XiGH3L+XizK4mvrLvxBn88DUkIE/efhQULUszj88XUmqLqDdPxofNVYBFeY/mo9FV+tZ7T8LACusak/yP0s4s6zf8fU/jXA7rVSU+T/NqMOtyTb9P4fwJVefbABAqAxq19k9AkDIKK5XFA8EQOhE8tdO4AVACGE2WImxB0AqfXrYw4IJQEqZvlj+UwtAZrUC2TglDUCG0UZZc/YOQGkFDlaYcxTAWPfrFfuKE8BI6cnVXaISwDjbp5XAuRHAKc2FVSPREMAxfscqDNEPwA9ig6rR/w3A8UU/KpcuDMDQKfupXF0KwK8NtykijAjAkPFyqee6BsBv1S4prekEwE+56qhyGAPAMJ2mKDhHAcAhAsVQ++v+v+HJPFCGSfu/oJG0TxGn979fWSxPnAT0vx8hpE4nYvC/wtE3nGR/6b9BYSebejriv4DhLTQh69W/7gE0yDSFvb8igk9AG6K8P4jBNNJastU/QNEqahce4j/AQTtrAWPpPx7ZJbb1U/A/XhGutmr28z+gSTa335j3P+CBvrdUO/s/ILpGuMnd/j8xeWdcH0ABQFGVq9xZEQNAcbHvXJTiBECRzTPdzrMGQLPpd10JhQhA0wW83UNWCkDvIQBeficMQA8+RN64+A1AJE+Pk3XyFMATQW1T2AkUwAMzSxM7IRPA8yQp0504EsDkFgeTAFARwNQI5VJjZxDAhfWFJYz9DsBm2UGlUSwNwEW9/SQXWwvAJaG5pNyJCcAFhXUkorgHwOVoMaRn5wXAxUztIy0WBMClMKmj8kQCwIYUZSO4cwDAy/BBRvtE/b+LuLlFhqL5v0qAMUURAPa/CkipRJxd8r+YH0KITnbtvxevMYdkMea/LH1CDPXY3b9POEMUQp7Ov3BkFwChqYi/uUtA9A2Jyz/UBkH8Wk7cP+rzMH8XbOU/ZmRBgAGx7D9z6qjA9frxP7UiMcFqnfU/9Vq5wd8/+T81k0HCVOL8P7zlZOFkQgBA3AGpYZ8TAkD8He3h2eQDQBw6MWIUtgVAPlZ14k6HB0BecrliiVgJQHqO/eLDKQtAmqpBY/76DEDemBDRUnEVwM6K7pC1iBTAvnzMUBigE8CubqoQe7cSwJ5giNDdzhHAjlJmkEDmEMD7iIigRvsPwNxsRCAMKg7Au1AAoNFYDMCbNLwfl4cKwHsYeJ9ctgjAW/wzHyLlBsA74O+e5xMFwBvEqx6tQgPA/KdnnnJxAcC3F0c8cED/v3ffvjv7nfu/Nqc2O4b797/2bq46EVn0v7g2JjqctvC/7vw7c04o6r9ujCtyZOPiv9g3NuL0PNe/p60qwEFmwb+yKC6IzFq3PyRrLCSHYNQ/EqYmky114T+OFjeUF7roPw6HR5UB/+8/yfsry/Wh8z8JNLTLakT3P0lsPMzf5vo/i6TEzFSJ/j9mbqbm5BUBQIaK6mYf5wJApqYu51m4BEDIwnJnlIkGQOjetufOWghABPv6ZwksCkAkFz/oQ/0LQJrikQ4w8BXAidRvzpIHFcB5xk2O9R4UwGm4K05YNhPAWqoJDrtNEsBKnOfNHWURwDmOxY2AfBDAUwBHm8YnD8Ax5AIbjFYNwBHIvppRhQvA8at6Ghe0CcDRjzaa3OIHwLFz8hmiEQbAkVeumWdABMByO2oZLW8CwFEfJpnynQDAYwbEMXCZ/b8izjsx+/b5v+KVszCGVPa/pF0rMBGy8r/GSkZfOB/uv0baNV5O2ua/iNNKusgq37+E8im49KDQvxyMSLAFuaC/6Z4vmGblyD90sDhOh/zaP7bILKgtw+Q/Njk9qRcI7D/d1CbVgKbxPx0Nr9X1SPU/XUU31mrr+D+ffb/W3438P/Dao2sqGABAEPfn62TpAUAwEyxsn7oDQFIvcOzZiwVAcku0bBRdB0COZ/jsTi4JQK6DPG2J/wpAVCwTTA1vFsBEHvELcIYVwDQQz8vSnRTAJAKtizW1E8AU9IpLmMwSwATmaAv74xHA9NdGy137EMDkySSLwBIQwKd3BZZGVA7AhlvBFQyDDMBnP32V0bEKwEYjORWX4AjAJgf1lFwPB8AG67AUIj4FwOfObJTnbAPAxrIoFK2bAcBNLckn5ZT/vwz1QCdw8vu/zLy4JvtP+L+OhDAmhq30v01MqCURC/G/GihASjjR6r+Yty9JTozjvyyOPpDIjti/V1o7HOkJxL8yzwzQfROyP8wUJHazDtM/4noivEPM4D9i6zK9LRHoP+ZbQ74XVu8/M+ap34BN8z9zHjLg9e/2P7VWuuBqkvo/9Y5C4d80/j+bY+VwqusAQLt/KfHkvAJA3ZttcR+OBED9t7HxWV8GQBnU9XGUMAhAOfA58s4BCkAPdpSJ6u0WwP5ncklNBRbA7llQCbAcFcDeSy7JEjQUwM89DIl1SxPAvy/qSNhiEsCuIcgIO3oRwJ8TpsidkRDAHQsIEQFSD8D87sOQxoANwN3SfxCMrwvAvLY7kFHeCcCcmvcPFw0IwHx+s4/cOwbAXWJvD6JqBMA8RiuPZ5kCwBwq5w4tyADA+RtGHeXt/b+4470ccEv6v3qrNRz7qPa/OXOtG4YG87/ydUo2Isjuv3AFOjU4g+e/7pQpNE4+4L/cSDJmyPLRvxw/iyCjR6u/OfIePL9Bxj8UWjCgs6rZP4qdKNFDGuQ/Dg450i1f6z9Hv6TpC1LxP4f3LOqA9PQ/yS+16vWW+D8JaD3rajn8P0mgxevf2/8/Rewmdiq/AUBnCGv2ZJADQIckr3afYQVAo0Dz9tkyB0DDXDd3FAQJQMu/FcfHbBfAurHzhiqEFsCqo9FGjZsVwJqVrwbwshTAi4eNxlLKE8B7eWuGteESwGprSUYY+RHAW10nBnsQEcBLTwXG3ScQwHOCxguBfg7AVWaCi0atDMA0Sj4LDNwKwBQu+orRCgnA9BG2Cpc5B8DV9XGKXGgFwLTZLQoilwPAlL3piefFAcDpQksTWun/v6gKwxLlRvy/atI6EnCk+L8pmrIR+wH1v+lhKhGGX/G/UFNEISJ667/O4jMgODXkv5zkRj6c4Nm/RwdMeJCtxr/k6tYvXpipP1S+G8jfvNE/qk8e5Vkj4D8uwC7mQ2jnP64wP+ctre4/l9An9Av58j/ZCLD0gJv2PxlBOPX1Pfo/WXnA9Wrg/T/NWCT7b8EAQO90aHuqkgJAD5Gs++RjBEArrfB7HzUGQEvJNPxZBghAhgmXBKXrF8B1+3TEBwMXwGXtUoRqGhbAVd8wRM0xFcBG0Q4EMEkUwDbD7MOSYBPAJbXKg/V3EsAWp6hDWI8RwAWZhgO7phDA6RXJhjt8D8DJ+YQGAasNwKndQIbG2QvAicH8BYwICsBppbiFUTcIwEqJdAUXZgbAKW0whdyUBMAJUewEosMCwOk0qIRn8gDAkTHICFpC/r9U+T8I5Z/6vxPBtwdw/fa/04gvB/ta878koU4NDHHvv6IwPgwiLOi/IsAtCzjn4L9MnzoUnETTvy75Zkgg67K/WUUO4Beewz+sAyjy31jYP1pyJPpZceM/2uI0+0O26j+tqSL+lv3wP+/hqv4LoPQ/Lxoz/4BC+D9vUrv/9eT7P6+KQwBrh/8/euFlAPCUAUCa/amAKmYDQLYZ7gBlNwVA1jUygZ8IB0BAUxhCgmoYwDBF9gHlgRfAIDfUwUeZFsAQKbKBqrAVwAAbkEENyBTA8AxuAXDfE8Dg/kvB0vYSwNDwKYE1DhLAwOIHQZglEcCw1OUA+zwQwD+Nh4G7qA7AH3FDAYHXDMD/VP+ARgYLwN84uwAMNQnAwBx3gNFjB8CfADMAl5IFwH/k7n9cwQPAX8iq/yHwAcA+rGZ/5x4AwD8gRf5Zm/y//+e8/eT4+L+/rzT9b1b1v353rPz6s/G/en5I+Asj7L/6DTj3Id7kv/w6T+xvMtu/97Nc1DdRyb/Ibyh/gROeP/xnExoMa9A/BEk0HOD03j8ClSoPWr/mP4IFOxBEBO4/A7ulCJek8j9D8y0JDEf2P4MrtgmB6fk/w2M+CvaL/T8ETmOFNZcAQCRqpwVwaAJAQIbrhao5BEBgoi8G5QoGQPycmX9f6RjA6453P8IAGMDbgFX/JBgXwMtyM7+HLxbAvGQRf+pGFcCsVu8+TV4UwJtIzf6vdRPAjDqrvhKNEsB7LIl+daQRwGseZz7YuxDAtSCK/HWmD8CVBEZ8O9UNwHXoAfwABAzAVcy9e8YyCsA2sHn7i2EIwBWUNXtRkAbA9Xfx+ha/BMDVW6163O0CwLQ/afqhHAHAK0dK9M6W/r/rDsLzWfT6v6vWOfPkUfe/ap6x8m+v878pZiny+gzwv9JbQuML1ei/Vusx4iGQ4b+s9ULCb5bUv85SiABvMri/mZj9g3D6wD9UrR9EDAfXPypHICNwyOI/qrcwJFoN6j8XlKASIqnwP1fMKBOXS/Q/lwSxEwzu9z/XPDkUgZD7Pxt1wRT2Mv8/rtakirVqAUDK8ugK8DsDQOoOLYsqDQVAtuYavTxoGcCm2Ph8n38YwJbK1jwClxfAhry0/GSuFsB2rpK8x8UVwGagcHwq3RTAVpJOPI30E8BGhCz87wsTwDZ2CrxSIxLAJmjoe7U6EcAWWsY7GFIQwAuYSPf10g7A63sEd7sBDcDLX8D2gDALwKxDfHZGXwnAiyc49guOB8BrC/R10bwFwEvvr/WW6wPAKtNrdVwaAsALtyf1IUkAwNc1x+nO7/y/l/0+6VlN+b9Wxbbo5Kr1vxWNLuhvCPK/qqlMz/XL7L8uOTzOC4flv1yRV5pDhNy/x2BtMN/0y7+QE0Y9jeyBP0kjFthwMs4/pPIrbgyj3T/SaSY4cBbmP1baNjlaW+0/a6UjHSJQ8j+r3asdl/L1P+sVNB4Mlfk/L068HoE3/T84Q6IP+2wAQFRf5o81PgJAdHsqEHAPBEBxMJz6GecZwGAierp8/hjAUBRYet8VGMBABjY6Qi0XwDH4E/qkRBbAIerxuQdcFcAQ3M95anMUwAHOrTnNihPA8b+L+S+iEsDgsWm5krkRwNGjR3n10BDAfytLcrDQD8BgDwfydf8NwEDzwnE7LgzAIdd+8QBdCsAAuzpxxosIwOCe9vCLugbAwIKycFHpBMCfZm7wFhgDwIFKKnDcRgHAwVzM30Pr/r+BJETfzkj7v0Dsu95Zpve//7Mz3uQD9L+/e6vdb2HwvwKHRrr1fem/ghY2uQs54r8MTEtwQ+jVvy6sqbi9eb2/8tfZT5KtvD/8VheWOLXVP/4bHEyGH+I/gowsTXBk6T+Bfh4nrVTwP8G2pici9/M/Ae8uKJeZ9z9FJ7coDDz7P4VfPymB3v4/38vjFHtAAUD/5yeVtREDQCx6HTj3ZRrAHGz791l9GcAMXtm3vJQYwPxPt3cfrBfA7EGVN4LDFsDcM3P35NoVwMwlUbdH8hTAvBcvd6oJFMCsCQ03DSETwJz76vZvOBLAjO3IttJPEcB836Z2NWcQwNWiCW0w/Q7AtobF7PUrDcCXaoFsu1oLwHZOPeyAiQnAVjL5a0a4B8A2FrXrC+cFwBX6cGvRFQTA990s65ZEAsDWwehqXHMAwG1LSdVDRP2/LBPB1M6h+b/r2jjUWf/1v6uisNPkXPK/2tRQpt907b9aZECl9S/mv7znX0gX1t2/dw1+jIaYzr9wtsSD6E2Iv5l2BXzJjss/TJwjwDhR3D+qPiJhhm3lPyqvMmJwsuw/1Y+hMa378T8VyCkyIp71P1kAsjKXQPk/mTg6Mwzj/D9pOOGZwEIAQIlUJRr7EwJA6MOeddTkGsDYtXw1N/wZwMinWvWZExnAuJk4tfwqGMCoixZ1X0IXwJh99DTCWRbAiG/S9CRxFcB4YbC0h4gUwGhTjnTqnxPAWEVsNE23EsBIN0r0r84RwDgpKLQS5hDATTYM6Or6D8AuGshnsCkOwA/+g+d1WAzA7uE/ZzuHCsDOxfvmALYIwK6pt2bG5AbAjY1z5osTBcBvcS9mUUIDwE5V6+UWcQHAXXJOy7g//78cOsbKQ537v9sBPsrO+ve/m8m1yVlY9L9dkS3J5LXwvzqySpHfJuq/vkE6kPXh4r98olMeFzrXv+eCZTiGYMG/Mn64l0Nmtz+MAA/oZGPUP8rwF3WcduE/SmEodoa76D/laJw7OADwPyWhJDytovM/admsPCJF9z+pETU9l+f6P+FJvT0Miv4/EcEin0AWAUCiDSCzsWMbwJL//XIUexrAgvHbMneSGcBy47ny2akYwGLVl7I8wRfAUsd1cp/YFsBCuVMyAvAVwDKrMfJkBxXAIp0PssceFMASj+1xKjYTwAKByzGNTRLA8nKp8e9kEcDiZIexUnwQwKOtyuJqJw/AhJGGYjBWDcBjdULi9YQLwENZ/mG7swnAIz264YDiB8ACIXZhRhEGwOMEMuELQATAw+jtYNFuAsCjzKnglp0AwAdhy8C4mP2/xShDwEP2+b+F8Lq/zlP2v0e4Mr9ZsfK/DgBVfckd7r+Sj0R839jmvyQ+aPbqJ9+/HF1H9Bae0L/c4DORF6Kgv8nJ9B8i68g/7EUbEmX/2j92Ex6KnMTkP/aDLouGCew/O3ofRjin8T9/sqdGrUn1P7/qL0ci7Pg/9yK4R5eO/D+cLSAkhhgAQF5XofCO4hvATUl/sPH5GsA9O11wVBEawC0tOzC3KBnAHh8Z8BlAGMAOEfevfFcXwP0C1W/fbhbA7vSyL0KGFcDd5pDvpJ0UwM3Ybq8HtRPAvcpMb2rMEsCtvCovzeMRwJ2uCO8v+xDAjaDmrpISEMD5JInd6lMOwNkIRV2wggzAuewA3XWxCsCZ0LxcO+AIwHi0eNwADwfAWZg0XMY9BcA5fPDbi2wDwBlgrFtRmwHA84fQti2U/7+xT0i2uPH7v3EXwLVDT/i/M983tc6s9L/zpq+0WQrxv2rdTmjJz+q/6mw+Z9+K47/M+FvM6ovYv5cvdpQtBMS/0iSX3/Qesj88qgY6kRHTP57FE56yzeA/HjYkn5wS6D+epjSghlfvP5OLolA4TvM/08MqUa3w9j8L/LJRIpP6P0s0O1KXNf4/GKEiLmxhHMAIkwDuzngbwPiE3q0xkBrA6Ha8bZSnGcDYaJot974YwMhaeO1Z1hfAuExWrbztFsCoPjRtHwUWwJgwEi2CHBXAiCLw7OQzFMB4FM6sR0sTwGgGrGyqYhLAWPiJLA16EcBI6mfsb5EQwG+4i1ilUQ/AT5xH2GqADcAvgANYMK8LwA9kv9f13QnA7kd7V7sMCMDPKzfXgDsGwK8P81ZGagTAj/Ou1guZAsBv12pW0ccAwJ12Tawt7f2/XT7Fq7hK+r8fBj2rQ6j2v9/NtKrOBfO/QitZVLPG7r/CukhTyYHnvz5KOFLfPOC/fLNPourv0b/ck3YBtTCrvxkd5MN6R8Y/jO8SZJGt2T9G6BmzshvkP8ZYKrScYOs/p2SdWsNS8T/nnCVbOPX0Px/VrVutl/g/Xw02XCI6/D8=",
          "dtype": "f8",
          "shape": "40, 40"
         }
        },
        {
         "line": {
          "color": "crimson",
          "width": 3
         },
         "mode": "lines",
         "name": "residual (vertical)",
         "showlegend": true,
         "type": "scatter3d",
         "x": [
          1.2915645287781854,
          1.2915645287781854
         ],
         "y": [
          1.77027215251349,
          1.77027215251349
         ],
         "z": [
          0.7098667406623373,
          0.2184209166069424
         ]
        },
        {
         "line": {
          "color": "crimson",
          "width": 3
         },
         "mode": "lines",
         "name": "residual (vertical)",
         "showlegend": false,
         "type": "scatter3d",
         "x": [
          1.7101158038388016,
          1.7101158038388016
         ],
         "y": [
          -0.39845415103514104,
          -0.39845415103514104
         ],
         "z": [
          3.1047385844722633,
          3.395527256267799
         ]
        },
        {
         "line": {
          "color": "crimson",
          "width": 3
         },
         "mode": "lines",
         "name": "residual (vertical)",
         "showlegend": false,
         "type": "scatter3d",
         "x": [
          2.32882952762561,
          2.32882952762561
         ],
         "y": [
          1.2624837394394697,
          1.2624837394394697
         ],
         "z": [
          2.6734213651740624,
          2.3879088234931496
         ]
        },
        {
         "line": {
          "color": "crimson",
          "width": 3
         },
         "mode": "lines",
         "name": "residual (vertical)",
         "showlegend": false,
         "type": "scatter3d",
         "x": [
          2.8978026076577184,
          2.8978026076577184
         ],
         "y": [
          0.9828066843107206,
          0.9828066843107206
         ],
         "z": [
          3.751423313515725,
          4.08936520689618
         ]
        },
        {
         "line": {
          "color": "crimson",
          "width": 3
         },
         "mode": "lines",
         "name": "residual (vertical)",
         "showlegend": false,
         "type": "scatter3d",
         "x": [
          -1.445597572521629,
          -1.445597572521629
         ],
         "y": [
          2.0077729998698475,
          2.0077729998698475
         ],
         "z": [
          -3.571964001073986,
          -3.7651583505674884
         ]
        },
        {
         "line": {
          "color": "crimson",
          "width": 3
         },
         "mode": "lines",
         "name": "residual (vertical)",
         "showlegend": false,
         "type": "scatter3d",
         "x": [
          -1.568946762967701,
          -1.568946762967701
         ],
         "y": [
          3.9473697733094646,
          3.9473697733094646
         ],
         "z": [
          -5.338966420764917,
          -5.4417570327056906
         ]
        },
        {
         "line": {
          "color": "crimson",
          "width": 3
         },
         "mode": "lines",
         "name": "residual (vertical)",
         "showlegend": false,
         "type": "scatter3d",
         "x": [
          0.8275112942201186,
          0.8275112942201186
         ],
         "y": [
          1.981671784800124,
          1.981671784800124
         ],
         "z": [
          -0.15571801254828463,
          -0.04164951782252371
         ]
        },
        {
         "line": {
          "color": "crimson",
          "width": 3
         },
         "mode": "lines",
         "name": "residual (vertical)",
         "showlegend": false,
         "type": "scatter3d",
         "x": [
          -0.5227155777208286,
          -0.5227155777208286
         ],
         "y": [
          1.5192380237771683,
          1.5192380237771683
         ],
         "z": [
          -1.7949547948180393,
          -2.162698406550006
         ]
        },
        {
         "line": {
          "color": "crimson",
          "width": 3
         },
         "mode": "lines",
         "name": "residual (vertical)",
         "showlegend": false,
         "type": "scatter3d",
         "x": [
          1.809788101603631,
          1.809788101603631
         ],
         "y": [
          1.3788639527219853,
          1.3788639527219853
         ],
         "z": [
          1.8032494272367652,
          1.7813152346929595
         ]
        },
        {
         "line": {
          "color": "crimson",
          "width": 3
         },
         "mode": "lines",
         "name": "residual (vertical)",
         "showlegend": false,
         "type": "scatter3d",
         "x": [
          1.157089986453323,
          1.157089986453323
         ],
         "y": [
          0.6979787012277359,
          0.6979787012277359
         ],
         "z": [
          1.3840536475334744,
          1.5262618871004663
         ]
        },
        {
         "line": {
          "color": "crimson",
          "width": 3
         },
         "mode": "lines",
         "name": "residual (vertical)",
         "showlegend": false,
         "type": "scatter3d",
         "x": [
          -0.44270603915422857,
          -0.44270603915422857
         ],
         "y": [
          2.1079920061811044,
          2.1079920061811044
         ],
         "z": [
          -2.155901857531813,
          -2.1319122870264327
         ]
        },
        {
         "line": {
          "color": "crimson",
          "width": 3
         },
         "mode": "lines",
         "name": "residual (vertical)",
         "showlegend": false,
         "type": "scatter3d",
         "x": [
          1.8873948740638857,
          1.8873948740638857
         ],
         "y": [
          -0.044912281015548006,
          -0.044912281015548006
         ],
         "z": [
          3.0810071866523328,
          3.3630274290322544
         ]
        },
        {
         "line": {
          "color": "crimson",
          "width": 3
         },
         "mode": "lines",
         "name": "residual (vertical)",
         "showlegend": false,
         "type": "scatter3d",
         "x": [
          0.3750841959409391,
          0.3750841959409391
         ],
         "y": [
          -0.190973033382826,
          -0.190973033382826
         ],
         "z": [
          0.9415228906919175,
          0.6706001228712963
         ]
        }
       ],
       "layout": {
        "margin": {
         "b": 0,
         "l": 0,
         "r": 0,
         "t": 40
        },
        "scene": {
         "aspectmode": "cube",
         "xaxis": {
          "title": {
           "text": "x1"
          }
         },
         "yaxis": {
          "title": {
           "text": "x2"
          }
         },
         "zaxis": {
          "title": {
           "text": "y"
          }
         }
        },
        "template": {
         "data": {
          "bar": [
           {
            "error_x": {
             "color": "#2a3f5f"
            },
            "error_y": {
             "color": "#2a3f5f"
            },
            "marker": {
             "line": {
              "color": "#E5ECF6",
              "width": 0.5
             },
             "pattern": {
              "fillmode": "overlay",
              "size": 10,
              "solidity": 0.2
             }
            },
            "type": "bar"
           }
          ],
          "barpolar": [
           {
            "marker": {
             "line": {
              "color": "#E5ECF6",
              "width": 0.5
             },
             "pattern": {
              "fillmode": "overlay",
              "size": 10,
              "solidity": 0.2
             }
            },
            "type": "barpolar"
           }
          ],
          "carpet": [
           {
            "aaxis": {
             "endlinecolor": "#2a3f5f",
             "gridcolor": "white",
             "linecolor": "white",
             "minorgridcolor": "white",
             "startlinecolor": "#2a3f5f"
            },
            "baxis": {
             "endlinecolor": "#2a3f5f",
             "gridcolor": "white",
             "linecolor": "white",
             "minorgridcolor": "white",
             "startlinecolor": "#2a3f5f"
            },
            "type": "carpet"
           }
          ],
          "choropleth": [
           {
            "colorbar": {
             "outlinewidth": 0,
             "ticks": ""
            },
            "type": "choropleth"
           }
          ],
          "contour": [
           {
            "colorbar": {
             "outlinewidth": 0,
             "ticks": ""
            },
            "colorscale": [
             [
              0,
              "#0d0887"
             ],
             [
              0.1111111111111111,
              "#46039f"
             ],
             [
              0.2222222222222222,
              "#7201a8"
             ],
             [
              0.3333333333333333,
              "#9c179e"
             ],
             [
              0.4444444444444444,
              "#bd3786"
             ],
             [
              0.5555555555555556,
              "#d8576b"
             ],
             [
              0.6666666666666666,
              "#ed7953"
             ],
             [
              0.7777777777777778,
              "#fb9f3a"
             ],
             [
              0.8888888888888888,
              "#fdca26"
             ],
             [
              1,
              "#f0f921"
             ]
            ],
            "type": "contour"
           }
          ],
          "contourcarpet": [
           {
            "colorbar": {
             "outlinewidth": 0,
             "ticks": ""
            },
            "type": "contourcarpet"
           }
          ],
          "heatmap": [
           {
            "colorbar": {
             "outlinewidth": 0,
             "ticks": ""
            },
            "colorscale": [
             [
              0,
              "#0d0887"
             ],
             [
              0.1111111111111111,
              "#46039f"
             ],
             [
              0.2222222222222222,
              "#7201a8"
             ],
             [
              0.3333333333333333,
              "#9c179e"
             ],
             [
              0.4444444444444444,
              "#bd3786"
             ],
             [
              0.5555555555555556,
              "#d8576b"
             ],
             [
              0.6666666666666666,
              "#ed7953"
             ],
             [
              0.7777777777777778,
              "#fb9f3a"
             ],
             [
              0.8888888888888888,
              "#fdca26"
             ],
             [
              1,
              "#f0f921"
             ]
            ],
            "type": "heatmap"
           }
          ],
          "histogram": [
           {
            "marker": {
             "pattern": {
              "fillmode": "overlay",
              "size": 10,
              "solidity": 0.2
             }
            },
            "type": "histogram"
           }
          ],
          "histogram2d": [
           {
            "colorbar": {
             "outlinewidth": 0,
             "ticks": ""
            },
            "colorscale": [
             [
              0,
              "#0d0887"
             ],
             [
              0.1111111111111111,
              "#46039f"
             ],
             [
              0.2222222222222222,
              "#7201a8"
             ],
             [
              0.3333333333333333,
              "#9c179e"
             ],
             [
              0.4444444444444444,
              "#bd3786"
             ],
             [
              0.5555555555555556,
              "#d8576b"
             ],
             [
              0.6666666666666666,
              "#ed7953"
             ],
             [
              0.7777777777777778,
              "#fb9f3a"
             ],
             [
              0.8888888888888888,
              "#fdca26"
             ],
             [
              1,
              "#f0f921"
             ]
            ],
            "type": "histogram2d"
           }
          ],
          "histogram2dcontour": [
           {
            "colorbar": {
             "outlinewidth": 0,
             "ticks": ""
            },
            "colorscale": [
             [
              0,
              "#0d0887"
             ],
             [
              0.1111111111111111,
              "#46039f"
             ],
             [
              0.2222222222222222,
              "#7201a8"
             ],
             [
              0.3333333333333333,
              "#9c179e"
             ],
             [
              0.4444444444444444,
              "#bd3786"
             ],
             [
              0.5555555555555556,
              "#d8576b"
             ],
             [
              0.6666666666666666,
              "#ed7953"
             ],
             [
              0.7777777777777778,
              "#fb9f3a"
             ],
             [
              0.8888888888888888,
              "#fdca26"
             ],
             [
              1,
              "#f0f921"
             ]
            ],
            "type": "histogram2dcontour"
           }
          ],
          "mesh3d": [
           {
            "colorbar": {
             "outlinewidth": 0,
             "ticks": ""
            },
            "type": "mesh3d"
           }
          ],
          "parcoords": [
           {
            "line": {
             "colorbar": {
              "outlinewidth": 0,
              "ticks": ""
             }
            },
            "type": "parcoords"
           }
          ],
          "pie": [
           {
            "automargin": true,
            "type": "pie"
           }
          ],
          "scatter": [
           {
            "fillpattern": {
             "fillmode": "overlay",
             "size": 10,
             "solidity": 0.2
            },
            "type": "scatter"
           }
          ],
          "scatter3d": [
           {
            "line": {
             "colorbar": {
              "outlinewidth": 0,
              "ticks": ""
             }
            },
            "marker": {
             "colorbar": {
              "outlinewidth": 0,
              "ticks": ""
             }
            },
            "type": "scatter3d"
           }
          ],
          "scattercarpet": [
           {
            "marker": {
             "colorbar": {
              "outlinewidth": 0,
              "ticks": ""
             }
            },
            "type": "scattercarpet"
           }
          ],
          "scattergeo": [
           {
            "marker": {
             "colorbar": {
              "outlinewidth": 0,
              "ticks": ""
             }
            },
            "type": "scattergeo"
           }
          ],
          "scattergl": [
           {
            "marker": {
             "colorbar": {
              "outlinewidth": 0,
              "ticks": ""
             }
            },
            "type": "scattergl"
           }
          ],
          "scattermap": [
           {
            "marker": {
             "colorbar": {
              "outlinewidth": 0,
              "ticks": ""
             }
            },
            "type": "scattermap"
           }
          ],
          "scattermapbox": [
           {
            "marker": {
             "colorbar": {
              "outlinewidth": 0,
              "ticks": ""
             }
            },
            "type": "scattermapbox"
           }
          ],
          "scatterpolar": [
           {
            "marker": {
             "colorbar": {
              "outlinewidth": 0,
              "ticks": ""
             }
            },
            "type": "scatterpolar"
           }
          ],
          "scatterpolargl": [
           {
            "marker": {
             "colorbar": {
              "outlinewidth": 0,
              "ticks": ""
             }
            },
            "type": "scatterpolargl"
           }
          ],
          "scatterternary": [
           {
            "marker": {
             "colorbar": {
              "outlinewidth": 0,
              "ticks": ""
             }
            },
            "type": "scatterternary"
           }
          ],
          "surface": [
           {
            "colorbar": {
             "outlinewidth": 0,
             "ticks": ""
            },
            "colorscale": [
             [
              0,
              "#0d0887"
             ],
             [
              0.1111111111111111,
              "#46039f"
             ],
             [
              0.2222222222222222,
              "#7201a8"
             ],
             [
              0.3333333333333333,
              "#9c179e"
             ],
             [
              0.4444444444444444,
              "#bd3786"
             ],
             [
              0.5555555555555556,
              "#d8576b"
             ],
             [
              0.6666666666666666,
              "#ed7953"
             ],
             [
              0.7777777777777778,
              "#fb9f3a"
             ],
             [
              0.8888888888888888,
              "#fdca26"
             ],
             [
              1,
              "#f0f921"
             ]
            ],
            "type": "surface"
           }
          ],
          "table": [
           {
            "cells": {
             "fill": {
              "color": "#EBF0F8"
             },
             "line": {
              "color": "white"
             }
            },
            "header": {
             "fill": {
              "color": "#C8D4E3"
             },
             "line": {
              "color": "white"
             }
            },
            "type": "table"
           }
          ]
         },
         "layout": {
          "annotationdefaults": {
           "arrowcolor": "#2a3f5f",
           "arrowhead": 0,
           "arrowwidth": 1
          },
          "autotypenumbers": "strict",
          "coloraxis": {
           "colorbar": {
            "outlinewidth": 0,
            "ticks": ""
           }
          },
          "colorscale": {
           "diverging": [
            [
             0,
             "#8e0152"
            ],
            [
             0.1,
             "#c51b7d"
            ],
            [
             0.2,
             "#de77ae"
            ],
            [
             0.3,
             "#f1b6da"
            ],
            [
             0.4,
             "#fde0ef"
            ],
            [
             0.5,
             "#f7f7f7"
            ],
            [
             0.6,
             "#e6f5d0"
            ],
            [
             0.7,
             "#b8e186"
            ],
            [
             0.8,
             "#7fbc41"
            ],
            [
             0.9,
             "#4d9221"
            ],
            [
             1,
             "#276419"
            ]
           ],
           "sequential": [
            [
             0,
             "#0d0887"
            ],
            [
             0.1111111111111111,
             "#46039f"
            ],
            [
             0.2222222222222222,
             "#7201a8"
            ],
            [
             0.3333333333333333,
             "#9c179e"
            ],
            [
             0.4444444444444444,
             "#bd3786"
            ],
            [
             0.5555555555555556,
             "#d8576b"
            ],
            [
             0.6666666666666666,
             "#ed7953"
            ],
            [
             0.7777777777777778,
             "#fb9f3a"
            ],
            [
             0.8888888888888888,
             "#fdca26"
            ],
            [
             1,
             "#f0f921"
            ]
           ],
           "sequentialminus": [
            [
             0,
             "#0d0887"
            ],
            [
             0.1111111111111111,
             "#46039f"
            ],
            [
             0.2222222222222222,
             "#7201a8"
            ],
            [
             0.3333333333333333,
             "#9c179e"
            ],
            [
             0.4444444444444444,
             "#bd3786"
            ],
            [
             0.5555555555555556,
             "#d8576b"
            ],
            [
             0.6666666666666666,
             "#ed7953"
            ],
            [
             0.7777777777777778,
             "#fb9f3a"
            ],
            [
             0.8888888888888888,
             "#fdca26"
            ],
            [
             1,
             "#f0f921"
            ]
           ]
          },
          "colorway": [
           "#636efa",
           "#EF553B",
           "#00cc96",
           "#ab63fa",
           "#FFA15A",
           "#19d3f3",
           "#FF6692",
           "#B6E880",
           "#FF97FF",
           "#FECB52"
          ],
          "font": {
           "color": "#2a3f5f"
          },
          "geo": {
           "bgcolor": "white",
           "lakecolor": "white",
           "landcolor": "#E5ECF6",
           "showlakes": true,
           "showland": true,
           "subunitcolor": "white"
          },
          "hoverlabel": {
           "align": "left"
          },
          "hovermode": "closest",
          "mapbox": {
           "style": "light"
          },
          "paper_bgcolor": "white",
          "plot_bgcolor": "#E5ECF6",
          "polar": {
           "angularaxis": {
            "gridcolor": "white",
            "linecolor": "white",
            "ticks": ""
           },
           "bgcolor": "#E5ECF6",
           "radialaxis": {
            "gridcolor": "white",
            "linecolor": "white",
            "ticks": ""
           }
          },
          "scene": {
           "xaxis": {
            "backgroundcolor": "#E5ECF6",
            "gridcolor": "white",
            "gridwidth": 2,
            "linecolor": "white",
            "showbackground": true,
            "ticks": "",
            "zerolinecolor": "white"
           },
           "yaxis": {
            "backgroundcolor": "#E5ECF6",
            "gridcolor": "white",
            "gridwidth": 2,
            "linecolor": "white",
            "showbackground": true,
            "ticks": "",
            "zerolinecolor": "white"
           },
           "zaxis": {
            "backgroundcolor": "#E5ECF6",
            "gridcolor": "white",
            "gridwidth": 2,
            "linecolor": "white",
            "showbackground": true,
            "ticks": "",
            "zerolinecolor": "white"
           }
          },
          "shapedefaults": {
           "line": {
            "color": "#2a3f5f"
           }
          },
          "ternary": {
           "aaxis": {
            "gridcolor": "white",
            "linecolor": "white",
            "ticks": ""
           },
           "baxis": {
            "gridcolor": "white",
            "linecolor": "white",
            "ticks": ""
           },
           "bgcolor": "#E5ECF6",
           "caxis": {
            "gridcolor": "white",
            "linecolor": "white",
            "ticks": ""
           }
          },
          "title": {
           "x": 0.05
          },
          "xaxis": {
           "automargin": true,
           "gridcolor": "white",
           "linecolor": "white",
           "ticks": "",
           "title": {
            "standoff": 15
           },
           "zerolinecolor": "white",
           "zerolinewidth": 2
          },
          "yaxis": {
           "automargin": true,
           "gridcolor": "white",
           "linecolor": "white",
           "ticks": "",
           "title": {
            "standoff": 15
           },
           "zerolinecolor": "white",
           "zerolinewidth": 2
          }
         }
        },
        "title": {
         "text": "Least squares plane: $y \\approx a\\,x_1 + b\\,x_2 + c$"
        }
       }
      }
     },
     "metadata": {},
     "output_type": "display_data"
    },
    {
     "name": "stdout",
     "output_type": "stream",
     "text": [
      "True plane:     y = 1.50 x1 + -0.80 x2 + 0.20\n",
      "Fitted plane:   y = 1.49 x1 + -0.82 x2 + 0.23\n"
     ]
    }
   ],
   "source": [
    "# 3D plot of least squares plane\n",
    "# you might first need one or both of these:\n",
    "# %pip install plotly -q\n",
    "# %pip install -U nbformat plotly\n",
    "import plotly.graph_objects as go\n",
    "\n",
    "# --- generate noisy observations ---\n",
    "rng = np.random.default_rng(432)\n",
    "n = 150     ### try changing this!\n",
    "x1 = rng.uniform(-2, 3, size=n)\n",
    "x2 = rng.uniform(-1, 4, size=n)\n",
    "a_true, b_true, c_true = 1.5, -0.8, 0.2 ### feel free to change these!\n",
    "sigma = 0.25    ### try changing this!\n",
    "y_clean = a_true * x1 + b_true * x2 + c_true\n",
    "y = y_clean + rng.normal(0, sigma, size=n)\n",
    "\n",
    "X = np.column_stack([x1, x2, np.ones_like(x1)])\n",
    "beta_hat, *_ = np.linalg.lstsq(X, y, rcond=None)\n",
    "a_hat, b_hat, c_hat = beta_hat\n",
    "\n",
    "# Plane grid\n",
    "x1g = np.linspace(x1.min()-0.5, x1.max()+0.5, 40)\n",
    "x2g = np.linspace(x2.min()-0.5, x2.max()+0.5, 40)\n",
    "X1g, X2g = np.meshgrid(x1g, x2g)\n",
    "Yg = a_hat * X1g + b_hat * X2g + c_hat\n",
    "\n",
    "# 3D scatter of data\n",
    "scatter = go.Scatter3d(\n",
    "    x=x1, y=x2, z=y,\n",
    "    mode='markers',\n",
    "    marker=dict(size=4, color='royalblue', opacity=0.9),\n",
    "    name='data'\n",
    ")\n",
    "\n",
    "# Fitted plane\n",
    "surface = go.Surface(\n",
    "    x=x1g, y=x2g, z=Yg,\n",
    "    colorscale='Viridis', opacity=0.6, showscale=False,\n",
    "    name='fitted plane'\n",
    ")\n",
    "\n",
    "# A few vertical residuals\n",
    "residual_traces = []\n",
    "step = max(1, n // 12)\n",
    "for i in range(0, n, step):\n",
    "    yhat_i = a_hat * x1[i] + b_hat * x2[i] + c_hat\n",
    "    residual_traces.append(\n",
    "        go.Scatter3d(\n",
    "            x=[x1[i], x1[i]],\n",
    "            y=[x2[i], x2[i]],\n",
    "            z=[yhat_i, y[i]],\n",
    "            mode='lines',\n",
    "            line=dict(color='crimson', width=3),\n",
    "            showlegend=(i == 0),\n",
    "            name='residual (vertical)'\n",
    "        )\n",
    "    )\n",
    "\n",
    "fig = go.Figure(data=[scatter, surface, *residual_traces])\n",
    "fig.update_layout(\n",
    "    title='Least squares plane: $y \\\\approx a\\\\,x_1 + b\\\\,x_2 + c$',\n",
    "    scene=dict(\n",
    "        xaxis_title='x1', yaxis_title='x2', zaxis_title='y',\n",
    "        aspectmode='cube'\n",
    "    ),\n",
    "    margin=dict(l=0, r=0, t=40, b=0)\n",
    ")\n",
    "fig.show()\n",
    "print(f'True plane:     y = {a_true:.2f} x1 + {b_true:.2f} x2 + {c_true:.2f}')\n",
    "print(f'Fitted plane:   y = {a_hat:.2f} x1 + {b_hat:.2f} x2 + {c_hat:.2f}')"
   ]
  },
  {
   "cell_type": "markdown",
   "id": "18830e8a",
   "metadata": {},
   "source": [
    "If you were having trouble installing plotly, you can try this matplotlib version."
   ]
  },
  {
   "cell_type": "code",
   "execution_count": 2,
   "id": "dd15797e",
   "metadata": {},
   "outputs": [
    {
     "name": "stdout",
     "output_type": "stream",
     "text": [
      "Note: you may need to restart the kernel to use updated packages.\n",
      "Estimated coefficients:\n",
      "  a (x1) ≈ 1.4935   (true: 1.5)\n",
      "  b (x2) ≈ -0.8160   (true: -0.8)\n",
      "  c      ≈ 0.2255   (true: 0.2)\n",
      "\n",
      "Orthogonality check:\n",
      "  ||X^T r||_2 = 1.3197995679672303e-13\n",
      "  Components of X^T r: [0. 0. 0.]\n"
     ]
    },
    {
     "data": {
      "application/vnd.jupyter.widget-view+json": {
       "model_id": "66b4b3b3f6d94b628a55ea48a1a8ebb2",
       "version_major": 2,
       "version_minor": 0
      },
      "image/png": "[encoded data removed]",
      "text/html": [
       "\n",
       "            <div style=\"display: inline-block;\">\n",
       "                <div class=\"jupyter-widgets widget-label\" style=\"text-align: center;\">\n",
       "                    Figure\n",
       "                </div>\n",
       "                <img src='data:image/png;base64,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' width=700.0/>\n",
       "            </div>\n",
       "        "
      ],
      "text/plain": [
       "Canvas(toolbar=Toolbar(toolitems=[('Home', 'Reset original view', 'home', 'home'), ('Back', 'Back to previous …"
      ]
     },
     "metadata": {},
     "output_type": "display_data"
    }
   ],
   "source": [
    "\n",
    "%pip install -q ipympl\n",
    "%matplotlib widget\n",
    "\n",
    "# 1) Generate synthetic two-feature data from a plane with small noise\n",
    "rng = np.random.default_rng(432)  # reproducible\n",
    "n = 150\n",
    "x1 = rng.uniform(-2, 3, size=n)\n",
    "x2 = rng.uniform(-1, 4, size=n)\n",
    "\n",
    "# True coefficients\n",
    "a_true, b_true, c_true = 1.5, -0.8, 0.2\n",
    "sigma = 0.25  # noise std dev\n",
    "\n",
    "y_clean = a_true * x1 + b_true * x2 + c_true\n",
    "y = y_clean + rng.normal(0, sigma, size=n)\n",
    "\n",
    "# 2) Build design matrix with intercept column and solve least squares\n",
    "X = np.column_stack([x1, x2, np.ones_like(x1)])   # columns: [x1, x2, 1]\n",
    "beta_hat, residuals, rank, s = np.linalg.lstsq(X, y, rcond=None)\n",
    "a_hat, b_hat, c_hat = beta_hat\n",
    "\n",
    "print(f\"Estimated coefficients:\")\n",
    "print(f\"  a (x1) ≈ {a_hat:.4f}   (true: {a_true})\")\n",
    "print(f\"  b (x2) ≈ {b_hat:.4f}   (true: {b_true})\")\n",
    "print(f\"  c      ≈ {c_hat:.4f}   (true: {c_true})\")\n",
    "\n",
    "# 3) Orthogonality check: columns of X are orthogonal to residuals\n",
    "r = y - X @ beta_hat\n",
    "Xt_r = X.T @ r\n",
    "print(\"\\nOrthogonality check:\")\n",
    "print(\"  ||X^T r||_2 =\", np.linalg.norm(Xt_r))\n",
    "print(\"  Components of X^T r:\", Xt_r)\n",
    "\n",
    "# 4) 3D visualization: scatter + fitted plane (INTERACTIVE)\n",
    "fig = plt.figure(figsize=(7, 5.5))\n",
    "ax = fig.add_subplot(111, projection='3d')\n",
    "\n",
    "# scatter points\n",
    "ax.scatter(x1, x2, y, s=18, color='C0', alpha=0.9)\n",
    "\n",
    "# fitted plane on a grid\n",
    "x1g = np.linspace(x1.min()-0.5, x1.max()+0.5, 40)\n",
    "x2g = np.linspace(x2.min()-0.5, x2.max()+0.5, 40)\n",
    "X1g, X2g = np.meshgrid(x1g, x2g)\n",
    "Yg = a_hat * X1g + b_hat * X2g + c_hat\n",
    "\n",
    "surf = ax.plot_surface(X1g, X2g, Yg, color='C1', alpha=0.35, rstride=1, cstride=1, linewidth=0)\n",
    "\n",
    "# (Optional) draw a few vertical residual segments to the plane\n",
    "for i in range(0, n, max(1, n // 12)):\n",
    "    yhat_i = a_hat * x1[i] + b_hat * x2[i] + c_hat\n",
    "    ax.plot([x1[i], x1[i]], [x2[i], x2[i]], [yhat_i, y[i]], color='C3', lw=1)\n",
    "\n",
    "ax.set_xlabel('x1')\n",
    "ax.set_ylabel('x2')\n",
    "ax.set_zlabel('y')\n",
    "ax.set_title('Least squares plane: $y \\\\approx a\\\\,x_1 + b\\\\,x_2 + c$')\n",
    "\n",
    "# Nice initial view (you can still rotate)\n",
    "ax.view_init(elev=25, azim=-60)\n",
    "\n",
    "# Legend\n",
    "handles = [\n",
    "    Line2D([0], [0], marker='o', color='w', markerfacecolor='C0', markersize=8, label='data'),\n",
    "    Patch(facecolor='C1', alpha=0.35, label='fitted plane'),\n",
    "    Line2D([0], [0], color='C3', lw=1, label='residual (vertical)')\n",
    "]\n",
    "ax.legend(handles=handles, loc='upper left')\n",
    "\n",
    "plt.tight_layout()\n",
    "plt.show()\n",
    "\n"
   ]
  },
  {
   "cell_type": "markdown",
   "metadata": {},
   "source": [
    "### Projection matrix\n",
    "The fitted values are $\\hat{\\mathbf{y}} = P_X \\mathbf{y}$, where\n",
    "$$P_X = X (X^\\top X)^{-1} X^\\top.$$\n",
    "Check symmetry and idempotence: $P_X^\\top = P_X$ and $P_X^2 = P_X$.\n",
    "*Note:* In practice we avoid forming $P_X$ explicitly for numerical stability; we use solvers like `np.linalg.lstsq`."
   ]
  },
  {
   "cell_type": "code",
   "execution_count": null,
   "metadata": {},
   "outputs": [
    {
     "name": "stdout",
     "output_type": "stream",
     "text": [
      "||P - P^T|| = 1.9092994193841008e-16\n",
      "||P^2 - P|| = 3.963022925508087e-16\n",
      "|| (P y) - y_hat || = 1.504229290428346e-14\n"
     ]
    }
   ],
   "source": [
    "XtX = X.T @ X\n",
    "XtX_inv = np.linalg.inv(XtX)\n",
    "P = X @ XtX_inv @ X.T\n",
    "print('||P - P^T|| =', np.linalg.norm(P - P.T))\n",
    "print('||P^2 - P|| =', np.linalg.norm(P @ P - P))\n",
    "print('|| (P y) - y_hat || =', np.linalg.norm((P @ y) - y_hat))"
   ]
  },
  {
   "cell_type": "markdown",
   "metadata": {},
   "source": [
    "## 4) Summary\n",
    "- NumPy arrays let us compute with vectors and matrices directly.\n",
    "- The dot product connects algebra and geometry: angles, lengths, orthogonality, **projection**.\n",
    "- Linear regression = orthogonal projection of `y` onto `col(X)`; the normal equations encode residual orthogonality.\n",
    "\n",
    "**Practice ideas:**\n",
    "- Try different `X` (more columns).\n",
    "- Generate your own data and visualize projection geometry."
   ]
  },
  {
   "cell_type": "markdown",
   "id": "6dbf6559",
   "metadata": {},
   "source": []
  }
 ],
 "metadata": {
  "kernelspec": {
   "display_name": ".venv",
   "language": "python",
   "name": "python3"
  },
  "language_info": {
   "codemirror_mode": {
    "name": "ipython",
    "version": 3
   },
   "file_extension": ".py",
   "mimetype": "text/x-python",
   "name": "python",
   "nbconvert_exporter": "python",
   "pygments_lexer": "ipython3",
   "version": "3.13.7"
  }
 },
 "nbformat": 4,
 "nbformat_minor": 5
}
